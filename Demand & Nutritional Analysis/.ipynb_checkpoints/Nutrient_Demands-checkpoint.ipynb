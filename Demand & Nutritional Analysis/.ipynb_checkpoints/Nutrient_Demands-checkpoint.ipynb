{
 "cells": [
  {
   "cell_type": "markdown",
   "id": "c2bebeaa-4ae1-4379-b044-bbafdfae1e7f",
   "metadata": {},
   "source": [
    "## **Nutrient Demands**"
   ]
  },
  {
   "cell_type": "markdown",
   "id": "b1a53363-e56f-4161-9f94-f14cfb2ccf15",
   "metadata": {},
   "source": [
    "### **Acquiring Data**"
   ]
  },
  {
   "cell_type": "code",
   "execution_count": 1,
   "id": "f935db86-6e66-43ff-8956-fa7d5acf63d8",
   "metadata": {},
   "outputs": [
    {
     "name": "stdout",
     "output_type": "stream",
     "text": [
      "Collecting CFEDemands>=0.4.1 (from -r requirements.txt (line 5))\n",
      "  Using cached CFEDemands-0.6.1-py2.py3-none-any.whl.metadata (1.7 kB)\n",
      "Requirement already satisfied: gspread>=5.0.1 in /srv/conda/lib/python3.11/site-packages (from -r requirements.txt (line 7)) (5.12.4)\n",
      "Collecting gspread_pandas>=3.2.0 (from -r requirements.txt (line 8))\n",
      "  Using cached gspread_pandas-3.3.0-py2.py3-none-any.whl.metadata (10 kB)\n",
      "Collecting oauth2client>=4.1.3 (from -r requirements.txt (line 11))\n",
      "  Using cached oauth2client-4.1.3-py2.py3-none-any.whl.metadata (1.2 kB)\n",
      "Collecting eep153_tools>=0.11 (from -r requirements.txt (line 21))\n",
      "  Using cached eep153_tools-0.12.4-py2.py3-none-any.whl.metadata (363 bytes)\n",
      "Collecting python-gnupg (from -r requirements.txt (line 22))\n",
      "  Using cached python_gnupg-0.5.4-py2.py3-none-any.whl.metadata (2.0 kB)\n",
      "Collecting ConsumerDemands (from -r requirements.txt (line 24))\n",
      "  Using cached ConsumerDemands-0.4.3.dev0-py2.py3-none-any.whl.metadata (1.2 kB)\n",
      "Collecting dvc>=2.18.1 (from CFEDemands>=0.4.1->-r requirements.txt (line 5))\n",
      "  Using cached dvc-3.59.1-py3-none-any.whl.metadata (18 kB)\n",
      "Requirement already satisfied: joblib>=1.1.0 in /srv/conda/lib/python3.11/site-packages (from CFEDemands>=0.4.1->-r requirements.txt (line 5)) (1.4.2)\n",
      "Requirement already satisfied: matplotlib>=3.5.1 in /srv/conda/lib/python3.11/site-packages (from CFEDemands>=0.4.1->-r requirements.txt (line 5)) (3.10.1)\n",
      "Requirement already satisfied: numpy>=1.21.5 in /srv/conda/lib/python3.11/site-packages (from CFEDemands>=0.4.1->-r requirements.txt (line 5)) (2.2.5)\n",
      "Requirement already satisfied: pandas>=1.4.2 in /srv/conda/lib/python3.11/site-packages (from CFEDemands>=0.4.1->-r requirements.txt (line 5)) (2.2.3)\n",
      "Requirement already satisfied: pytest>=7.1.1 in /srv/conda/lib/python3.11/site-packages (from CFEDemands>=0.4.1->-r requirements.txt (line 5)) (8.3.5)\n",
      "Collecting ray>=2.0.0 (from CFEDemands>=0.4.1->-r requirements.txt (line 5))\n",
      "  Using cached ray-2.45.0-cp311-cp311-manylinux2014_x86_64.whl.metadata (19 kB)\n",
      "Requirement already satisfied: scipy>=1.7.3 in /srv/conda/lib/python3.11/site-packages (from CFEDemands>=0.4.1->-r requirements.txt (line 5)) (1.14.1)\n",
      "Requirement already satisfied: statsmodels>=0.13.2 in /srv/conda/lib/python3.11/site-packages (from CFEDemands>=0.4.1->-r requirements.txt (line 5)) (0.14.4)\n",
      "Requirement already satisfied: xarray>=0.20.1 in /srv/conda/lib/python3.11/site-packages (from CFEDemands>=0.4.1->-r requirements.txt (line 5)) (2025.1.1)\n",
      "Requirement already satisfied: google-auth>=1.12.0 in /srv/conda/lib/python3.11/site-packages (from gspread>=5.0.1->-r requirements.txt (line 7)) (2.39.0)\n",
      "Requirement already satisfied: google-auth-oauthlib>=0.4.1 in /srv/conda/lib/python3.11/site-packages (from gspread>=5.0.1->-r requirements.txt (line 7)) (1.2.1)\n",
      "Requirement already satisfied: decorator in /srv/conda/lib/python3.11/site-packages (from gspread_pandas>=3.2.0->-r requirements.txt (line 8)) (5.1.1)\n",
      "Requirement already satisfied: httplib2>=0.9.1 in /srv/conda/lib/python3.11/site-packages (from oauth2client>=4.1.3->-r requirements.txt (line 11)) (0.22.0)\n",
      "Requirement already satisfied: pyasn1>=0.1.7 in /srv/conda/lib/python3.11/site-packages (from oauth2client>=4.1.3->-r requirements.txt (line 11)) (0.6.1)\n",
      "Requirement already satisfied: pyasn1-modules>=0.0.5 in /srv/conda/lib/python3.11/site-packages (from oauth2client>=4.1.3->-r requirements.txt (line 11)) (0.4.2)\n",
      "Requirement already satisfied: rsa>=3.1.4 in /srv/conda/lib/python3.11/site-packages (from oauth2client>=4.1.3->-r requirements.txt (line 11)) (4.9.1)\n",
      "Requirement already satisfied: six>=1.6.1 in /srv/conda/lib/python3.11/site-packages (from oauth2client>=4.1.3->-r requirements.txt (line 11)) (1.17.0)\n",
      "Requirement already satisfied: attrs>=22.2.0 in /srv/conda/lib/python3.11/site-packages (from dvc>=2.18.1->CFEDemands>=0.4.1->-r requirements.txt (line 5)) (25.3.0)\n",
      "Collecting celery (from dvc>=2.18.1->CFEDemands>=0.4.1->-r requirements.txt (line 5))\n",
      "  Using cached celery-5.5.2-py3-none-any.whl.metadata (22 kB)\n",
      "Requirement already satisfied: colorama>=0.3.9 in /srv/conda/lib/python3.11/site-packages (from dvc>=2.18.1->CFEDemands>=0.4.1->-r requirements.txt (line 5)) (0.4.6)\n",
      "Collecting configobj>=5.0.9 (from dvc>=2.18.1->CFEDemands>=0.4.1->-r requirements.txt (line 5))\n",
      "  Using cached configobj-5.0.9-py2.py3-none-any.whl.metadata (3.2 kB)\n",
      "Requirement already satisfied: distro>=1.3 in /srv/conda/lib/python3.11/site-packages (from dvc>=2.18.1->CFEDemands>=0.4.1->-r requirements.txt (line 5)) (1.9.0)\n",
      "Collecting dpath<3,>=2.1.0 (from dvc>=2.18.1->CFEDemands>=0.4.1->-r requirements.txt (line 5))\n",
      "  Using cached dpath-2.2.0-py3-none-any.whl.metadata (15 kB)\n",
      "Collecting dulwich (from dvc>=2.18.1->CFEDemands>=0.4.1->-r requirements.txt (line 5))\n",
      "  Using cached dulwich-0.22.8-cp311-cp311-manylinux_2_17_x86_64.manylinux2014_x86_64.whl.metadata (4.9 kB)\n",
      "Collecting dvc-data<3.17,>=3.16.2 (from dvc>=2.18.1->CFEDemands>=0.4.1->-r requirements.txt (line 5))\n",
      "  Using cached dvc_data-3.16.10-py3-none-any.whl.metadata (5.0 kB)\n",
      "Collecting dvc-http>=2.29.0 (from dvc>=2.18.1->CFEDemands>=0.4.1->-r requirements.txt (line 5))\n",
      "  Using cached dvc_http-2.32.0-py3-none-any.whl.metadata (1.3 kB)\n",
      "Collecting dvc-objects (from dvc>=2.18.1->CFEDemands>=0.4.1->-r requirements.txt (line 5))\n",
      "  Using cached dvc_objects-5.1.0-py3-none-any.whl.metadata (3.7 kB)\n",
      "Collecting dvc-render<2,>=1.0.1 (from dvc>=2.18.1->CFEDemands>=0.4.1->-r requirements.txt (line 5))\n",
      "  Using cached dvc_render-1.0.2-py3-none-any.whl.metadata (5.4 kB)\n",
      "Collecting dvc-studio-client<1,>=0.21 (from dvc>=2.18.1->CFEDemands>=0.4.1->-r requirements.txt (line 5))\n",
      "  Using cached dvc_studio_client-0.21.0-py3-none-any.whl.metadata (4.3 kB)\n",
      "Collecting dvc-task<1,>=0.3.0 (from dvc>=2.18.1->CFEDemands>=0.4.1->-r requirements.txt (line 5))\n",
      "  Using cached dvc_task-0.40.2-py3-none-any.whl.metadata (10.0 kB)\n",
      "Collecting flatten_dict<1,>=0.4.1 (from dvc>=2.18.1->CFEDemands>=0.4.1->-r requirements.txt (line 5))\n",
      "  Using cached flatten_dict-0.4.2-py2.py3-none-any.whl.metadata (9.2 kB)\n",
      "Collecting flufl.lock<9,>=8.1.0 (from dvc>=2.18.1->CFEDemands>=0.4.1->-r requirements.txt (line 5))\n",
      "  Using cached flufl_lock-8.1.0-py3-none-any.whl.metadata (3.3 kB)\n",
      "Collecting fsspec>=2024.2.0 (from dvc>=2.18.1->CFEDemands>=0.4.1->-r requirements.txt (line 5))\n",
      "  Using cached fsspec-2025.3.2-py3-none-any.whl.metadata (11 kB)\n",
      "Collecting funcy>=1.14 (from dvc>=2.18.1->CFEDemands>=0.4.1->-r requirements.txt (line 5))\n",
      "  Using cached funcy-2.0-py2.py3-none-any.whl.metadata (5.9 kB)\n",
      "Collecting grandalf<1,>=0.7 (from dvc>=2.18.1->CFEDemands>=0.4.1->-r requirements.txt (line 5))\n",
      "  Using cached grandalf-0.8-py3-none-any.whl.metadata (1.7 kB)\n",
      "Collecting gto<2,>=1.6.0 (from dvc>=2.18.1->CFEDemands>=0.4.1->-r requirements.txt (line 5))\n",
      "  Using cached gto-1.7.2-py3-none-any.whl.metadata (4.7 kB)\n",
      "Collecting hydra-core>=1.1 (from dvc>=2.18.1->CFEDemands>=0.4.1->-r requirements.txt (line 5))\n",
      "  Using cached hydra_core-1.3.2-py3-none-any.whl.metadata (5.5 kB)\n",
      "Collecting iterative-telemetry>=0.0.7 (from dvc>=2.18.1->CFEDemands>=0.4.1->-r requirements.txt (line 5))\n",
      "  Using cached iterative_telemetry-0.0.10-py3-none-any.whl.metadata (4.1 kB)\n",
      "Collecting kombu (from dvc>=2.18.1->CFEDemands>=0.4.1->-r requirements.txt (line 5))\n",
      "  Using cached kombu-5.5.3-py3-none-any.whl.metadata (3.5 kB)\n",
      "Requirement already satisfied: networkx>=2.5 in /srv/conda/lib/python3.11/site-packages (from dvc>=2.18.1->CFEDemands>=0.4.1->-r requirements.txt (line 5)) (3.4.2)\n",
      "Collecting omegaconf (from dvc>=2.18.1->CFEDemands>=0.4.1->-r requirements.txt (line 5))\n",
      "  Using cached omegaconf-2.3.0-py3-none-any.whl.metadata (3.9 kB)\n",
      "Requirement already satisfied: packaging>=19 in /srv/conda/lib/python3.11/site-packages (from dvc>=2.18.1->CFEDemands>=0.4.1->-r requirements.txt (line 5)) (24.2)\n",
      "Collecting pathspec>=0.10.3 (from dvc>=2.18.1->CFEDemands>=0.4.1->-r requirements.txt (line 5))\n",
      "  Using cached pathspec-0.12.1-py3-none-any.whl.metadata (21 kB)\n",
      "Requirement already satisfied: platformdirs<5,>=3.1.1 in /srv/conda/lib/python3.11/site-packages (from dvc>=2.18.1->CFEDemands>=0.4.1->-r requirements.txt (line 5)) (4.3.6)\n",
      "Requirement already satisfied: psutil>=5.8 in /srv/conda/lib/python3.11/site-packages (from dvc>=2.18.1->CFEDemands>=0.4.1->-r requirements.txt (line 5)) (5.9.8)\n",
      "Collecting pydot>=1.2.4 (from dvc>=2.18.1->CFEDemands>=0.4.1->-r requirements.txt (line 5))\n",
      "  Using cached pydot-3.0.4-py3-none-any.whl.metadata (10 kB)\n",
      "Collecting pygtrie>=2.3.2 (from dvc>=2.18.1->CFEDemands>=0.4.1->-r requirements.txt (line 5))\n",
      "  Using cached pygtrie-2.5.0-py3-none-any.whl.metadata (7.5 kB)\n",
      "Requirement already satisfied: pyparsing>=2.4.7 in /srv/conda/lib/python3.11/site-packages (from dvc>=2.18.1->CFEDemands>=0.4.1->-r requirements.txt (line 5)) (3.2.3)\n",
      "Requirement already satisfied: requests>=2.22 in /srv/conda/lib/python3.11/site-packages (from dvc>=2.18.1->CFEDemands>=0.4.1->-r requirements.txt (line 5)) (2.32.3)\n",
      "Requirement already satisfied: rich>=12 in /srv/conda/lib/python3.11/site-packages (from dvc>=2.18.1->CFEDemands>=0.4.1->-r requirements.txt (line 5)) (13.9.4)\n",
      "Requirement already satisfied: ruamel.yaml>=0.17.11 in /srv/conda/lib/python3.11/site-packages (from dvc>=2.18.1->CFEDemands>=0.4.1->-r requirements.txt (line 5)) (0.18.10)\n",
      "Collecting scmrepo<4,>=3.3.8 (from dvc>=2.18.1->CFEDemands>=0.4.1->-r requirements.txt (line 5))\n",
      "  Using cached scmrepo-3.3.11-py3-none-any.whl.metadata (4.8 kB)\n",
      "Collecting shortuuid>=0.5 (from dvc>=2.18.1->CFEDemands>=0.4.1->-r requirements.txt (line 5))\n",
      "  Using cached shortuuid-1.0.13-py3-none-any.whl.metadata (5.8 kB)\n",
      "Collecting shtab<2,>=1.3.4 (from dvc>=2.18.1->CFEDemands>=0.4.1->-r requirements.txt (line 5))\n",
      "  Using cached shtab-1.7.2-py3-none-any.whl.metadata (7.4 kB)\n",
      "Collecting tabulate>=0.8.7 (from dvc>=2.18.1->CFEDemands>=0.4.1->-r requirements.txt (line 5))\n",
      "  Using cached tabulate-0.9.0-py3-none-any.whl.metadata (34 kB)\n",
      "Collecting tomlkit>=0.11.1 (from dvc>=2.18.1->CFEDemands>=0.4.1->-r requirements.txt (line 5))\n",
      "  Using cached tomlkit-0.13.2-py3-none-any.whl.metadata (2.7 kB)\n",
      "Requirement already satisfied: tqdm<5,>=4.63.1 in /srv/conda/lib/python3.11/site-packages (from dvc>=2.18.1->CFEDemands>=0.4.1->-r requirements.txt (line 5)) (4.67.1)\n",
      "Collecting voluptuous>=0.11.7 (from dvc>=2.18.1->CFEDemands>=0.4.1->-r requirements.txt (line 5))\n",
      "  Using cached voluptuous-0.15.2-py3-none-any.whl.metadata (20 kB)\n",
      "Collecting zc.lockfile>=1.2.1 (from dvc>=2.18.1->CFEDemands>=0.4.1->-r requirements.txt (line 5))\n",
      "  Using cached zc.lockfile-3.0.post1-py3-none-any.whl.metadata (6.2 kB)\n",
      "Requirement already satisfied: cachetools<6.0,>=2.0.0 in /srv/conda/lib/python3.11/site-packages (from google-auth>=1.12.0->gspread>=5.0.1->-r requirements.txt (line 7)) (5.5.2)\n",
      "Requirement already satisfied: requests-oauthlib>=0.7.0 in /srv/conda/lib/python3.11/site-packages (from google-auth-oauthlib>=0.4.1->gspread>=5.0.1->-r requirements.txt (line 7)) (2.0.0)\n",
      "Requirement already satisfied: contourpy>=1.0.1 in /srv/conda/lib/python3.11/site-packages (from matplotlib>=3.5.1->CFEDemands>=0.4.1->-r requirements.txt (line 5)) (1.3.2)\n",
      "Requirement already satisfied: cycler>=0.10 in /srv/conda/lib/python3.11/site-packages (from matplotlib>=3.5.1->CFEDemands>=0.4.1->-r requirements.txt (line 5)) (0.12.1)\n",
      "Requirement already satisfied: fonttools>=4.22.0 in /srv/conda/lib/python3.11/site-packages (from matplotlib>=3.5.1->CFEDemands>=0.4.1->-r requirements.txt (line 5)) (4.57.0)\n",
      "Requirement already satisfied: kiwisolver>=1.3.1 in /srv/conda/lib/python3.11/site-packages (from matplotlib>=3.5.1->CFEDemands>=0.4.1->-r requirements.txt (line 5)) (1.4.7)\n",
      "Requirement already satisfied: pillow>=8 in /srv/conda/lib/python3.11/site-packages (from matplotlib>=3.5.1->CFEDemands>=0.4.1->-r requirements.txt (line 5)) (11.1.0)\n",
      "Requirement already satisfied: python-dateutil>=2.7 in /srv/conda/lib/python3.11/site-packages (from matplotlib>=3.5.1->CFEDemands>=0.4.1->-r requirements.txt (line 5)) (2.9.0.post0)\n",
      "Requirement already satisfied: pytz>=2020.1 in /srv/conda/lib/python3.11/site-packages (from pandas>=1.4.2->CFEDemands>=0.4.1->-r requirements.txt (line 5)) (2025.2)\n",
      "Requirement already satisfied: tzdata>=2022.7 in /srv/conda/lib/python3.11/site-packages (from pandas>=1.4.2->CFEDemands>=0.4.1->-r requirements.txt (line 5)) (2025.2)\n",
      "Requirement already satisfied: iniconfig in /srv/conda/lib/python3.11/site-packages (from pytest>=7.1.1->CFEDemands>=0.4.1->-r requirements.txt (line 5)) (2.0.0)\n",
      "Requirement already satisfied: pluggy<2,>=1.5 in /srv/conda/lib/python3.11/site-packages (from pytest>=7.1.1->CFEDemands>=0.4.1->-r requirements.txt (line 5)) (1.5.0)\n",
      "Requirement already satisfied: click>=7.0 in /srv/conda/lib/python3.11/site-packages (from ray>=2.0.0->CFEDemands>=0.4.1->-r requirements.txt (line 5)) (8.1.8)\n",
      "Collecting filelock (from ray>=2.0.0->CFEDemands>=0.4.1->-r requirements.txt (line 5))\n",
      "  Using cached filelock-3.18.0-py3-none-any.whl.metadata (2.9 kB)\n",
      "Requirement already satisfied: jsonschema in /srv/conda/lib/python3.11/site-packages (from ray>=2.0.0->CFEDemands>=0.4.1->-r requirements.txt (line 5)) (4.23.0)\n",
      "Collecting msgpack<2.0.0,>=1.0.0 (from ray>=2.0.0->CFEDemands>=0.4.1->-r requirements.txt (line 5))\n",
      "  Using cached msgpack-1.1.0-cp311-cp311-manylinux_2_17_x86_64.manylinux2014_x86_64.whl.metadata (8.4 kB)\n",
      "Requirement already satisfied: protobuf!=3.19.5,>=3.15.3 in /srv/conda/lib/python3.11/site-packages (from ray>=2.0.0->CFEDemands>=0.4.1->-r requirements.txt (line 5)) (5.29.3)\n",
      "Requirement already satisfied: pyyaml in /srv/conda/lib/python3.11/site-packages (from ray>=2.0.0->CFEDemands>=0.4.1->-r requirements.txt (line 5)) (6.0.2)\n",
      "Requirement already satisfied: patsy>=0.5.6 in /srv/conda/lib/python3.11/site-packages (from statsmodels>=0.13.2->CFEDemands>=0.4.1->-r requirements.txt (line 5)) (1.0.1)\n",
      "Collecting dictdiffer>=0.8.1 (from dvc-data<3.17,>=3.16.2->dvc>=2.18.1->CFEDemands>=0.4.1->-r requirements.txt (line 5))\n",
      "  Using cached dictdiffer-0.9.0-py2.py3-none-any.whl.metadata (4.8 kB)\n",
      "Collecting diskcache>=5.2.1 (from dvc-data<3.17,>=3.16.2->dvc>=2.18.1->CFEDemands>=0.4.1->-r requirements.txt (line 5))\n",
      "  Using cached diskcache-5.6.3-py3-none-any.whl.metadata (20 kB)\n",
      "Collecting sqltrie<1,>=0.11.0 (from dvc-data<3.17,>=3.16.2->dvc>=2.18.1->CFEDemands>=0.4.1->-r requirements.txt (line 5))\n",
      "  Using cached sqltrie-0.11.2-py3-none-any.whl.metadata (3.3 kB)\n",
      "Collecting orjson<4,>=3 (from dvc-data<3.17,>=3.16.2->dvc>=2.18.1->CFEDemands>=0.4.1->-r requirements.txt (line 5))\n",
      "  Using cached orjson-3.10.18-cp311-cp311-manylinux_2_17_x86_64.manylinux2014_x86_64.whl.metadata (41 kB)\n",
      "Collecting aiohttp-retry>=2.5.0 (from dvc-http>=2.29.0->dvc>=2.18.1->CFEDemands>=0.4.1->-r requirements.txt (line 5))\n",
      "  Using cached aiohttp_retry-2.9.1-py3-none-any.whl.metadata (8.8 kB)\n",
      "Collecting billiard<5.0,>=4.2.1 (from celery->dvc>=2.18.1->CFEDemands>=0.4.1->-r requirements.txt (line 5))\n",
      "  Using cached billiard-4.2.1-py3-none-any.whl.metadata (4.4 kB)\n",
      "Collecting vine<6.0,>=5.1.0 (from celery->dvc>=2.18.1->CFEDemands>=0.4.1->-r requirements.txt (line 5))\n",
      "  Using cached vine-5.1.0-py3-none-any.whl.metadata (2.7 kB)\n",
      "Collecting click-didyoumean>=0.3.0 (from celery->dvc>=2.18.1->CFEDemands>=0.4.1->-r requirements.txt (line 5))\n",
      "  Using cached click_didyoumean-0.3.1-py3-none-any.whl.metadata (3.9 kB)\n",
      "Collecting click-repl>=0.2.0 (from celery->dvc>=2.18.1->CFEDemands>=0.4.1->-r requirements.txt (line 5))\n",
      "  Using cached click_repl-0.3.0-py3-none-any.whl.metadata (3.6 kB)\n",
      "Collecting click-plugins>=1.1.1 (from celery->dvc>=2.18.1->CFEDemands>=0.4.1->-r requirements.txt (line 5))\n",
      "  Using cached click_plugins-1.1.1-py2.py3-none-any.whl.metadata (6.4 kB)\n",
      "Requirement already satisfied: atpublic in /srv/conda/lib/python3.11/site-packages (from flufl.lock<9,>=8.1.0->dvc>=2.18.1->CFEDemands>=0.4.1->-r requirements.txt (line 5)) (4.1.0)\n",
      "Collecting entrypoints (from gto<2,>=1.6.0->dvc>=2.18.1->CFEDemands>=0.4.1->-r requirements.txt (line 5))\n",
      "  Using cached entrypoints-0.4-py3-none-any.whl.metadata (2.6 kB)\n",
      "Requirement already satisfied: pydantic!=2.0.0,<3,>=1.9.0 in /srv/conda/lib/python3.11/site-packages (from gto<2,>=1.6.0->dvc>=2.18.1->CFEDemands>=0.4.1->-r requirements.txt (line 5)) (2.10.5)\n",
      "Collecting semver>=2.13.0 (from gto<2,>=1.6.0->dvc>=2.18.1->CFEDemands>=0.4.1->-r requirements.txt (line 5))\n",
      "  Using cached semver-3.0.4-py3-none-any.whl.metadata (6.8 kB)\n",
      "Requirement already satisfied: typer>=0.4.1 in /srv/conda/lib/python3.11/site-packages (from gto<2,>=1.6.0->dvc>=2.18.1->CFEDemands>=0.4.1->-r requirements.txt (line 5)) (0.15.2)\n",
      "Collecting antlr4-python3-runtime==4.9.* (from hydra-core>=1.1->dvc>=2.18.1->CFEDemands>=0.4.1->-r requirements.txt (line 5))\n",
      "  Using cached antlr4_python3_runtime-4.9.3-py3-none-any.whl\n",
      "Collecting appdirs (from iterative-telemetry>=0.0.7->dvc>=2.18.1->CFEDemands>=0.4.1->-r requirements.txt (line 5))\n",
      "  Using cached appdirs-1.4.4-py2.py3-none-any.whl.metadata (9.0 kB)\n",
      "Collecting amqp<6.0.0,>=5.1.1 (from kombu->dvc>=2.18.1->CFEDemands>=0.4.1->-r requirements.txt (line 5))\n",
      "  Using cached amqp-5.3.1-py3-none-any.whl.metadata (8.9 kB)\n",
      "Requirement already satisfied: charset_normalizer<4,>=2 in /srv/conda/lib/python3.11/site-packages (from requests>=2.22->dvc>=2.18.1->CFEDemands>=0.4.1->-r requirements.txt (line 5)) (3.4.0)\n",
      "Requirement already satisfied: idna<4,>=2.5 in /srv/conda/lib/python3.11/site-packages (from requests>=2.22->dvc>=2.18.1->CFEDemands>=0.4.1->-r requirements.txt (line 5)) (3.10)\n",
      "Requirement already satisfied: urllib3<3,>=1.21.1 in /srv/conda/lib/python3.11/site-packages (from requests>=2.22->dvc>=2.18.1->CFEDemands>=0.4.1->-r requirements.txt (line 5)) (2.3.0)\n",
      "Requirement already satisfied: certifi>=2017.4.17 in /srv/conda/lib/python3.11/site-packages (from requests>=2.22->dvc>=2.18.1->CFEDemands>=0.4.1->-r requirements.txt (line 5)) (2025.1.31)\n",
      "Requirement already satisfied: oauthlib>=3.0.0 in /srv/conda/lib/python3.11/site-packages (from requests-oauthlib>=0.7.0->google-auth-oauthlib>=0.4.1->gspread>=5.0.1->-r requirements.txt (line 7)) (3.2.2)\n",
      "Requirement already satisfied: markdown-it-py>=2.2.0 in /srv/conda/lib/python3.11/site-packages (from rich>=12->dvc>=2.18.1->CFEDemands>=0.4.1->-r requirements.txt (line 5)) (3.0.0)\n",
      "Requirement already satisfied: pygments<3.0.0,>=2.13.0 in /srv/conda/lib/python3.11/site-packages (from rich>=12->dvc>=2.18.1->CFEDemands>=0.4.1->-r requirements.txt (line 5)) (2.19.1)\n",
      "Requirement already satisfied: ruamel.yaml.clib>=0.2.7 in /srv/conda/lib/python3.11/site-packages (from ruamel.yaml>=0.17.11->dvc>=2.18.1->CFEDemands>=0.4.1->-r requirements.txt (line 5)) (0.2.8)\n",
      "Requirement already satisfied: gitpython>3 in /srv/conda/lib/python3.11/site-packages (from scmrepo<4,>=3.3.8->dvc>=2.18.1->CFEDemands>=0.4.1->-r requirements.txt (line 5)) (3.1.44)\n",
      "Collecting pygit2>=1.14.0 (from scmrepo<4,>=3.3.8->dvc>=2.18.1->CFEDemands>=0.4.1->-r requirements.txt (line 5))\n",
      "  Using cached pygit2-1.18.0-cp311-cp311-manylinux_2_28_x86_64.whl.metadata (3.6 kB)\n",
      "Collecting asyncssh<3,>=2.13.1 (from scmrepo<4,>=3.3.8->dvc>=2.18.1->CFEDemands>=0.4.1->-r requirements.txt (line 5))\n",
      "  Using cached asyncssh-2.20.0-py3-none-any.whl.metadata (9.9 kB)\n",
      "Requirement already satisfied: setuptools in /srv/conda/lib/python3.11/site-packages (from zc.lockfile>=1.2.1->dvc>=2.18.1->CFEDemands>=0.4.1->-r requirements.txt (line 5)) (75.6.0)\n",
      "Requirement already satisfied: jsonschema-specifications>=2023.03.6 in /srv/conda/lib/python3.11/site-packages (from jsonschema->ray>=2.0.0->CFEDemands>=0.4.1->-r requirements.txt (line 5)) (2024.10.1)\n",
      "Requirement already satisfied: referencing>=0.28.4 in /srv/conda/lib/python3.11/site-packages (from jsonschema->ray>=2.0.0->CFEDemands>=0.4.1->-r requirements.txt (line 5)) (0.36.2)\n",
      "Requirement already satisfied: rpds-py>=0.7.1 in /srv/conda/lib/python3.11/site-packages (from jsonschema->ray>=2.0.0->CFEDemands>=0.4.1->-r requirements.txt (line 5)) (0.24.0)\n",
      "Requirement already satisfied: aiohttp in /srv/conda/lib/python3.11/site-packages (from aiohttp-retry>=2.5.0->dvc-http>=2.29.0->dvc>=2.18.1->CFEDemands>=0.4.1->-r requirements.txt (line 5)) (3.11.18)\n",
      "Requirement already satisfied: cryptography>=39.0 in /srv/conda/lib/python3.11/site-packages (from asyncssh<3,>=2.13.1->scmrepo<4,>=3.3.8->dvc>=2.18.1->CFEDemands>=0.4.1->-r requirements.txt (line 5)) (44.0.2)\n",
      "Requirement already satisfied: typing_extensions>=4.0.0 in /srv/conda/lib/python3.11/site-packages (from asyncssh<3,>=2.13.1->scmrepo<4,>=3.3.8->dvc>=2.18.1->CFEDemands>=0.4.1->-r requirements.txt (line 5)) (4.12.2)\n",
      "Requirement already satisfied: prompt-toolkit>=3.0.36 in /srv/conda/lib/python3.11/site-packages (from click-repl>=0.2.0->celery->dvc>=2.18.1->CFEDemands>=0.4.1->-r requirements.txt (line 5)) (3.0.51)\n",
      "Requirement already satisfied: gitdb<5,>=4.0.1 in /srv/conda/lib/python3.11/site-packages (from gitpython>3->scmrepo<4,>=3.3.8->dvc>=2.18.1->CFEDemands>=0.4.1->-r requirements.txt (line 5)) (4.0.12)\n",
      "Requirement already satisfied: mdurl~=0.1 in /srv/conda/lib/python3.11/site-packages (from markdown-it-py>=2.2.0->rich>=12->dvc>=2.18.1->CFEDemands>=0.4.1->-r requirements.txt (line 5)) (0.1.2)\n",
      "Requirement already satisfied: annotated-types>=0.6.0 in /srv/conda/lib/python3.11/site-packages (from pydantic!=2.0.0,<3,>=1.9.0->gto<2,>=1.6.0->dvc>=2.18.1->CFEDemands>=0.4.1->-r requirements.txt (line 5)) (0.7.0)\n",
      "Requirement already satisfied: pydantic-core==2.27.2 in /srv/conda/lib/python3.11/site-packages (from pydantic!=2.0.0,<3,>=1.9.0->gto<2,>=1.6.0->dvc>=2.18.1->CFEDemands>=0.4.1->-r requirements.txt (line 5)) (2.27.2)\n",
      "Requirement already satisfied: cffi>=1.17.0 in /srv/conda/lib/python3.11/site-packages (from pygit2>=1.14.0->scmrepo<4,>=3.3.8->dvc>=2.18.1->CFEDemands>=0.4.1->-r requirements.txt (line 5)) (1.17.1)\n",
      "Requirement already satisfied: shellingham>=1.3.0 in /srv/conda/lib/python3.11/site-packages (from typer>=0.4.1->gto<2,>=1.6.0->dvc>=2.18.1->CFEDemands>=0.4.1->-r requirements.txt (line 5)) (1.5.4)\n",
      "Requirement already satisfied: aiohappyeyeballs>=2.3.0 in /srv/conda/lib/python3.11/site-packages (from aiohttp->aiohttp-retry>=2.5.0->dvc-http>=2.29.0->dvc>=2.18.1->CFEDemands>=0.4.1->-r requirements.txt (line 5)) (2.6.1)\n",
      "Requirement already satisfied: aiosignal>=1.1.2 in /srv/conda/lib/python3.11/site-packages (from aiohttp->aiohttp-retry>=2.5.0->dvc-http>=2.29.0->dvc>=2.18.1->CFEDemands>=0.4.1->-r requirements.txt (line 5)) (1.3.2)\n",
      "Requirement already satisfied: frozenlist>=1.1.1 in /srv/conda/lib/python3.11/site-packages (from aiohttp->aiohttp-retry>=2.5.0->dvc-http>=2.29.0->dvc>=2.18.1->CFEDemands>=0.4.1->-r requirements.txt (line 5)) (1.5.0)\n",
      "Requirement already satisfied: multidict<7.0,>=4.5 in /srv/conda/lib/python3.11/site-packages (from aiohttp->aiohttp-retry>=2.5.0->dvc-http>=2.29.0->dvc>=2.18.1->CFEDemands>=0.4.1->-r requirements.txt (line 5)) (6.4.3)\n",
      "Requirement already satisfied: propcache>=0.2.0 in /srv/conda/lib/python3.11/site-packages (from aiohttp->aiohttp-retry>=2.5.0->dvc-http>=2.29.0->dvc>=2.18.1->CFEDemands>=0.4.1->-r requirements.txt (line 5)) (0.3.1)\n",
      "Requirement already satisfied: yarl<2.0,>=1.17.0 in /srv/conda/lib/python3.11/site-packages (from aiohttp->aiohttp-retry>=2.5.0->dvc-http>=2.29.0->dvc>=2.18.1->CFEDemands>=0.4.1->-r requirements.txt (line 5)) (1.20.0)\n",
      "Requirement already satisfied: pycparser in /srv/conda/lib/python3.11/site-packages (from cffi>=1.17.0->pygit2>=1.14.0->scmrepo<4,>=3.3.8->dvc>=2.18.1->CFEDemands>=0.4.1->-r requirements.txt (line 5)) (2.22)\n",
      "Requirement already satisfied: smmap<6,>=3.0.1 in /srv/conda/lib/python3.11/site-packages (from gitdb<5,>=4.0.1->gitpython>3->scmrepo<4,>=3.3.8->dvc>=2.18.1->CFEDemands>=0.4.1->-r requirements.txt (line 5)) (5.0.2)\n",
      "Requirement already satisfied: wcwidth in /srv/conda/lib/python3.11/site-packages (from prompt-toolkit>=3.0.36->click-repl>=0.2.0->celery->dvc>=2.18.1->CFEDemands>=0.4.1->-r requirements.txt (line 5)) (0.2.13)\n",
      "Using cached CFEDemands-0.6.1-py2.py3-none-any.whl (45 kB)\n",
      "Using cached gspread_pandas-3.3.0-py2.py3-none-any.whl (27 kB)\n",
      "Using cached oauth2client-4.1.3-py2.py3-none-any.whl (98 kB)\n",
      "Using cached eep153_tools-0.12.4-py2.py3-none-any.whl (4.9 kB)\n",
      "Using cached python_gnupg-0.5.4-py2.py3-none-any.whl (21 kB)\n",
      "Using cached ConsumerDemands-0.4.3.dev0-py2.py3-none-any.whl (12 kB)\n",
      "Using cached dvc-3.59.1-py3-none-any.whl (457 kB)\n",
      "Using cached ray-2.45.0-cp311-cp311-manylinux2014_x86_64.whl (68.4 MB)\n",
      "Using cached configobj-5.0.9-py2.py3-none-any.whl (35 kB)\n",
      "Using cached dpath-2.2.0-py3-none-any.whl (17 kB)\n",
      "Using cached dvc_data-3.16.10-py3-none-any.whl (77 kB)\n",
      "Using cached dvc_http-2.32.0-py3-none-any.whl (12 kB)\n",
      "Using cached dvc_objects-5.1.0-py3-none-any.whl (33 kB)\n",
      "Using cached dvc_render-1.0.2-py3-none-any.whl (22 kB)\n",
      "Using cached dvc_studio_client-0.21.0-py3-none-any.whl (16 kB)\n",
      "Using cached dvc_task-0.40.2-py3-none-any.whl (21 kB)\n",
      "Using cached celery-5.5.2-py3-none-any.whl (438 kB)\n",
      "Using cached flatten_dict-0.4.2-py2.py3-none-any.whl (9.7 kB)\n",
      "Using cached flufl_lock-8.1.0-py3-none-any.whl (11 kB)\n",
      "Using cached fsspec-2025.3.2-py3-none-any.whl (194 kB)\n",
      "Using cached funcy-2.0-py2.py3-none-any.whl (30 kB)\n",
      "Using cached grandalf-0.8-py3-none-any.whl (41 kB)\n",
      "Using cached gto-1.7.2-py3-none-any.whl (45 kB)\n",
      "Using cached hydra_core-1.3.2-py3-none-any.whl (154 kB)\n",
      "Using cached iterative_telemetry-0.0.10-py3-none-any.whl (10 kB)\n",
      "Using cached kombu-5.5.3-py3-none-any.whl (209 kB)\n",
      "Using cached vine-5.1.0-py3-none-any.whl (9.6 kB)\n",
      "Using cached msgpack-1.1.0-cp311-cp311-manylinux_2_17_x86_64.manylinux2014_x86_64.whl (403 kB)\n",
      "Using cached omegaconf-2.3.0-py3-none-any.whl (79 kB)\n",
      "Using cached pathspec-0.12.1-py3-none-any.whl (31 kB)\n",
      "Using cached pydot-3.0.4-py3-none-any.whl (35 kB)\n",
      "Using cached pygtrie-2.5.0-py3-none-any.whl (25 kB)\n",
      "Using cached scmrepo-3.3.11-py3-none-any.whl (73 kB)\n",
      "Using cached dulwich-0.22.8-cp311-cp311-manylinux_2_17_x86_64.manylinux2014_x86_64.whl (1.0 MB)\n",
      "Using cached shortuuid-1.0.13-py3-none-any.whl (10 kB)\n",
      "Using cached shtab-1.7.2-py3-none-any.whl (14 kB)\n",
      "Using cached tabulate-0.9.0-py3-none-any.whl (35 kB)\n",
      "Using cached tomlkit-0.13.2-py3-none-any.whl (37 kB)\n",
      "Using cached voluptuous-0.15.2-py3-none-any.whl (31 kB)\n",
      "Using cached zc.lockfile-3.0.post1-py3-none-any.whl (9.8 kB)\n",
      "Using cached filelock-3.18.0-py3-none-any.whl (16 kB)\n",
      "Using cached aiohttp_retry-2.9.1-py3-none-any.whl (10.0 kB)\n",
      "Using cached amqp-5.3.1-py3-none-any.whl (50 kB)\n",
      "Using cached asyncssh-2.20.0-py3-none-any.whl (373 kB)\n",
      "Using cached billiard-4.2.1-py3-none-any.whl (86 kB)\n",
      "Using cached click_didyoumean-0.3.1-py3-none-any.whl (3.6 kB)\n",
      "Using cached click_plugins-1.1.1-py2.py3-none-any.whl (7.5 kB)\n",
      "Using cached click_repl-0.3.0-py3-none-any.whl (10 kB)\n",
      "Using cached dictdiffer-0.9.0-py2.py3-none-any.whl (16 kB)\n",
      "Using cached diskcache-5.6.3-py3-none-any.whl (45 kB)\n",
      "Using cached orjson-3.10.18-cp311-cp311-manylinux_2_17_x86_64.manylinux2014_x86_64.whl (132 kB)\n",
      "Using cached pygit2-1.18.0-cp311-cp311-manylinux_2_28_x86_64.whl (5.4 MB)\n",
      "Using cached semver-3.0.4-py3-none-any.whl (17 kB)\n",
      "Using cached sqltrie-0.11.2-py3-none-any.whl (17 kB)\n",
      "Using cached appdirs-1.4.4-py2.py3-none-any.whl (9.6 kB)\n",
      "Using cached entrypoints-0.4-py3-none-any.whl (5.3 kB)\n",
      "Installing collected packages: python-gnupg, pygtrie, funcy, eep153_tools, dictdiffer, ConsumerDemands, appdirs, antlr4-python3-runtime, zc.lockfile, voluptuous, vine, tomlkit, tabulate, shtab, shortuuid, semver, pydot, pathspec, orjson, omegaconf, msgpack, grandalf, fsspec, flufl.lock, flatten_dict, filelock, entrypoints, dvc-render, dulwich, dpath, diskcache, configobj, click-plugins, click-didyoumean, billiard, sqltrie, pygit2, oauth2client, iterative-telemetry, hydra-core, dvc-studio-client, dvc-objects, click-repl, amqp, kombu, dvc-data, asyncssh, aiohttp-retry, scmrepo, ray, dvc-http, celery, gto, gspread_pandas, dvc-task, dvc, CFEDemands\n",
      "  Attempting uninstall: gspread_pandas\n",
      "    Found existing installation: gspread-pandas 2.2.3\n",
      "    Uninstalling gspread-pandas-2.2.3:\n",
      "      Successfully uninstalled gspread-pandas-2.2.3\n",
      "Successfully installed CFEDemands-0.6.1 ConsumerDemands-0.4.3.dev0 aiohttp-retry-2.9.1 amqp-5.3.1 antlr4-python3-runtime-4.9.3 appdirs-1.4.4 asyncssh-2.20.0 billiard-4.2.1 celery-5.5.2 click-didyoumean-0.3.1 click-plugins-1.1.1 click-repl-0.3.0 configobj-5.0.9 dictdiffer-0.9.0 diskcache-5.6.3 dpath-2.2.0 dulwich-0.22.8 dvc-3.59.1 dvc-data-3.16.10 dvc-http-2.32.0 dvc-objects-5.1.0 dvc-render-1.0.2 dvc-studio-client-0.21.0 dvc-task-0.40.2 eep153_tools-0.12.4 entrypoints-0.4 filelock-3.18.0 flatten_dict-0.4.2 flufl.lock-8.1.0 fsspec-2025.3.2 funcy-2.0 grandalf-0.8 gspread_pandas-3.3.0 gto-1.7.2 hydra-core-1.3.2 iterative-telemetry-0.0.10 kombu-5.5.3 msgpack-1.1.0 oauth2client-4.1.3 omegaconf-2.3.0 orjson-3.10.18 pathspec-0.12.1 pydot-3.0.4 pygit2-1.18.0 pygtrie-2.5.0 python-gnupg-0.5.4 ray-2.45.0 scmrepo-3.3.11 semver-3.0.4 shortuuid-1.0.13 shtab-1.7.2 sqltrie-0.11.2 tabulate-0.9.0 tomlkit-0.13.2 vine-5.1.0 voluptuous-0.15.2 zc.lockfile-3.0.post1\n",
      "Note: you may need to restart the kernel to use updated packages.\n"
     ]
    }
   ],
   "source": [
    "%pip install -r requirements.txt"
   ]
  },
  {
   "cell_type": "code",
   "execution_count": 2,
   "id": "e87944c9-7adc-44fe-9184-b2828c6bef35",
   "metadata": {},
   "outputs": [
    {
     "name": "stdout",
     "output_type": "stream",
     "text": [
      "Requirement already satisfied: python-gnupg in /srv/conda/lib/python3.11/site-packages (0.5.4)\n",
      "Note: you may need to restart the kernel to use updated packages.\n",
      "Requirement already satisfied: eep153_tools in /srv/conda/lib/python3.11/site-packages (0.12.4)\n",
      "Note: you may need to restart the kernel to use updated packages.\n"
     ]
    }
   ],
   "source": [
    "#Importing\n",
    "%pip install python-gnupg\n",
    "%pip install eep153_tools\n",
    "%matplotlib inline\n",
    "import pandas as pd\n",
    "import numpy as np\n",
    "import eep153_tools\n",
    "import cfe\n",
    "from cfe import Regression\n",
    "import matplotlib.pyplot as plt\n",
    "import seaborn as sns\n",
    "import warnings\n",
    "warnings.simplefilter(\"ignore\")"
   ]
  },
  {
   "cell_type": "code",
   "execution_count": 3,
   "id": "9333ab00-8887-4f90-974b-2ead727245fe",
   "metadata": {},
   "outputs": [],
   "source": [
    "%run Acquiring_Dataframes.py"
   ]
  },
  {
   "cell_type": "code",
   "execution_count": 4,
   "id": "c5a444a1-bad1-4c63-b5b3-8803860e5047",
   "metadata": {},
   "outputs": [],
   "source": [
    "#Get saved result\n",
    "ugd8_result = cfe.read_pickle('RGSN Files/Uganda19-20.rgsn')"
   ]
  },
  {
   "cell_type": "code",
   "execution_count": 5,
   "id": "ea1fcaa5-1009-47c4-a455-4092e35d214a",
   "metadata": {},
   "outputs": [],
   "source": [
    "#Reference prices\n",
    "pbar = ugd8_p.mean(axis=1)\n",
    "pbar = pbar.reset_index(level=\"u\", drop=True) \n",
    "pbar = pbar.reindex(ugd8_result.beta.index) \n",
    "pbar = pbar.replace(np.nan,1)\n",
    "def my_prices(j,p0,p=pbar):\n",
    "    \"\"\"\n",
    "    Change price of jth good to p0, holding other prices fixed.\n",
    "    \"\"\"\n",
    "    p = p.copy()\n",
    "    p.loc[j] = p0\n",
    "    return p"
   ]
  },
  {
   "cell_type": "code",
   "execution_count": 6,
   "id": "39458f1c-a89d-420a-a732-77245e9e08bf",
   "metadata": {},
   "outputs": [],
   "source": [
    "#Budgets\n",
    "xhat = ugd8_result.predicted_expenditures()\n",
    "xbar = xhat.groupby(['i','t','m']).sum()\n",
    "xref = xbar.quantile(0.5) "
   ]
  },
  {
   "cell_type": "code",
   "execution_count": 7,
   "id": "e6e72f52-ca24-4202-9ee8-c963d08e5949",
   "metadata": {},
   "outputs": [],
   "source": [
    "#Food Quantities\n",
    "qhat = (xhat.unstack('j')/ugd8_p.reset_index(drop=True, level=\"u\").transpose()).dropna(how='all')\n",
    "qhat = qhat.loc[:,qhat.count()>0]"
   ]
  },
  {
   "cell_type": "markdown",
   "id": "a3d2cdd5-5917-44a3-9800-9926df7b5562",
   "metadata": {},
   "source": [
    "### **Demands**"
   ]
  },
  {
   "cell_type": "code",
   "execution_count": 8,
   "id": "497173ee-f1a9-4e77-b7db-478aa47ca21a",
   "metadata": {},
   "outputs": [
    {
     "ename": "ValueError",
     "evalue": "could not convert string to float: 'Tomatoes'",
     "output_type": "error",
     "traceback": [
      "\u001b[31m---------------------------------------------------------------------------\u001b[39m",
      "\u001b[31mValueError\u001b[39m                                Traceback (most recent call last)",
      "\u001b[36mCell\u001b[39m\u001b[36m \u001b[39m\u001b[32mIn[8]\u001b[39m\u001b[32m, line 7\u001b[39m\n\u001b[32m      4\u001b[39m scale = np.linspace(\u001b[32m.5\u001b[39m,\u001b[32m2\u001b[39m,\u001b[32m20\u001b[39m)\n\u001b[32m      6\u001b[39m \u001b[38;5;66;03m#Demand for good for household at median budget\u001b[39;00m\n\u001b[32m----> \u001b[39m\u001b[32m7\u001b[39m plt.plot(\u001b[43m[\u001b[49m\u001b[43mugd8_result\u001b[49m\u001b[43m.\u001b[49m\u001b[43mdemands\u001b[49m\u001b[43m(\u001b[49m\u001b[43mxref\u001b[49m\u001b[43m,\u001b[49m\u001b[43mmy_prices\u001b[49m\u001b[43m(\u001b[49m\u001b[43mpbar\u001b[49m\u001b[43m[\u001b[49m\u001b[43muse\u001b[49m\u001b[43m]\u001b[49m\u001b[43m*\u001b[49m\u001b[43ms\u001b[49m\u001b[43m,\u001b[49m\u001b[43muse\u001b[49m\u001b[43m,\u001b[49m\u001b[43mpbar\u001b[49m\u001b[43m)\u001b[49m\u001b[43m)\u001b[49m\u001b[43m[\u001b[49m\u001b[43muse\u001b[49m\u001b[43m]\u001b[49m\u001b[43m \u001b[49m\u001b[38;5;28;43;01mfor\u001b[39;49;00m\u001b[43m \u001b[49m\u001b[43ms\u001b[49m\u001b[43m \u001b[49m\u001b[38;5;129;43;01min\u001b[39;49;00m\u001b[43m \u001b[49m\u001b[43mscale\u001b[49m\u001b[43m]\u001b[49m,scale)\n\u001b[32m      9\u001b[39m \u001b[38;5;66;03m#Demand for good for household at 25% percentile\u001b[39;00m\n\u001b[32m     10\u001b[39m plt.plot([ugd8_result.demands(xbar.quantile(\u001b[32m0.25\u001b[39m),my_prices(pbar[use]*s,use,pbar))[use] \u001b[38;5;28;01mfor\u001b[39;00m s \u001b[38;5;129;01min\u001b[39;00m scale],scale)\n",
      "\u001b[36mCell\u001b[39m\u001b[36m \u001b[39m\u001b[32mIn[8]\u001b[39m\u001b[32m, line 7\u001b[39m, in \u001b[36m<listcomp>\u001b[39m\u001b[34m(.0)\u001b[39m\n\u001b[32m      4\u001b[39m scale = np.linspace(\u001b[32m.5\u001b[39m,\u001b[32m2\u001b[39m,\u001b[32m20\u001b[39m)\n\u001b[32m      6\u001b[39m \u001b[38;5;66;03m#Demand for good for household at median budget\u001b[39;00m\n\u001b[32m----> \u001b[39m\u001b[32m7\u001b[39m plt.plot([\u001b[43mugd8_result\u001b[49m\u001b[43m.\u001b[49m\u001b[43mdemands\u001b[49m\u001b[43m(\u001b[49m\u001b[43mxref\u001b[49m\u001b[43m,\u001b[49m\u001b[43mmy_prices\u001b[49m\u001b[43m(\u001b[49m\u001b[43mpbar\u001b[49m\u001b[43m[\u001b[49m\u001b[43muse\u001b[49m\u001b[43m]\u001b[49m\u001b[43m*\u001b[49m\u001b[43ms\u001b[49m\u001b[43m,\u001b[49m\u001b[43muse\u001b[49m\u001b[43m,\u001b[49m\u001b[43mpbar\u001b[49m\u001b[43m)\u001b[49m\u001b[43m)\u001b[49m[use] \u001b[38;5;28;01mfor\u001b[39;00m s \u001b[38;5;129;01min\u001b[39;00m scale],scale)\n\u001b[32m      9\u001b[39m \u001b[38;5;66;03m#Demand for good for household at 25% percentile\u001b[39;00m\n\u001b[32m     10\u001b[39m plt.plot([ugd8_result.demands(xbar.quantile(\u001b[32m0.25\u001b[39m),my_prices(pbar[use]*s,use,pbar))[use] \u001b[38;5;28;01mfor\u001b[39;00m s \u001b[38;5;129;01min\u001b[39;00m scale],scale)\n",
      "\u001b[36mFile \u001b[39m\u001b[32m/srv/conda/lib/python3.11/site-packages/cfe/regression.py:1308\u001b[39m, in \u001b[36m_demands\u001b[39m\u001b[34m(self, x, p, z, type)\u001b[39m\n\u001b[32m   1302\u001b[39m p,pparms = _demand_parameters(\u001b[38;5;28mself\u001b[39m,p,z)\n\u001b[32m   1304\u001b[39m Qs = {\u001b[33m'\u001b[39m\u001b[33mMarshallian\u001b[39m\u001b[33m'\u001b[39m:consumerdemands.marshallian.demands,\n\u001b[32m   1305\u001b[39m       \u001b[33m'\u001b[39m\u001b[33mHicksian\u001b[39m\u001b[33m'\u001b[39m:consumerdemands.hicksian.demands,\n\u001b[32m   1306\u001b[39m       \u001b[33m'\u001b[39m\u001b[33mFrischian\u001b[39m\u001b[33m'\u001b[39m:consumerdemands.frischian.demands}\n\u001b[32m-> \u001b[39m\u001b[32m1308\u001b[39m q = pd.Series(\u001b[43mQs\u001b[49m\u001b[43m[\u001b[49m\u001b[38;5;28;43mtype\u001b[39;49m\u001b[43m]\u001b[49m\u001b[43m(\u001b[49m\u001b[43mx\u001b[49m\u001b[43m,\u001b[49m\u001b[43mp\u001b[49m\u001b[43m,\u001b[49m\u001b[43mpparms\u001b[49m\u001b[43m)\u001b[49m,index=idx,name=\u001b[33m'\u001b[39m\u001b[33mquantities\u001b[39m\u001b[33m'\u001b[39m)\n\u001b[32m   1310\u001b[39m \u001b[38;5;28;01mreturn\u001b[39;00m q\n",
      "\u001b[36mFile \u001b[39m\u001b[32m/srv/conda/lib/python3.11/site-packages/consumerdemands/marshallian.py:14\u001b[39m, in \u001b[36mdemands\u001b[39m\u001b[34m(y, p, parms, NegativeDemands)\u001b[39m\n\u001b[32m     12\u001b[39m \u001b[38;5;28;01mdef\u001b[39;00m\u001b[38;5;250m \u001b[39m\u001b[34mdemands\u001b[39m(y,p,parms,NegativeDemands=\u001b[38;5;28;01mTrue\u001b[39;00m):\n\u001b[32m---> \u001b[39m\u001b[32m14\u001b[39m     n,parms = \u001b[43mcheck_args\u001b[49m\u001b[43m(\u001b[49m\u001b[43mp\u001b[49m\u001b[43m=\u001b[49m\u001b[43mp\u001b[49m\u001b[43m,\u001b[49m\u001b[43m*\u001b[49m\u001b[43m*\u001b[49m\u001b[43mparms\u001b[49m\u001b[43m)\u001b[49m\n\u001b[32m     16\u001b[39m     lbda=lambdavalue(y,p,parms,NegativeDemands=NegativeDemands)\n\u001b[32m     18\u001b[39m     \u001b[38;5;28;01mreturn\u001b[39;00m frischian.demands(lbda,p,parms,NegativeDemands=NegativeDemands)\n",
      "\u001b[36mFile \u001b[39m\u001b[32m/srv/conda/lib/python3.11/site-packages/consumerdemands/_utils.py:16\u001b[39m, in \u001b[36mcheck_args\u001b[39m\u001b[34m(p, alpha, beta, phi, tol, **extra)\u001b[39m\n\u001b[32m     14\u001b[39m \u001b[38;5;66;03m# Make sure all args are of type array:\u001b[39;00m\n\u001b[32m     15\u001b[39m \u001b[38;5;28;01mif\u001b[39;00m p \u001b[38;5;129;01mis\u001b[39;00m \u001b[38;5;129;01mnot\u001b[39;00m \u001b[38;5;28;01mNone\u001b[39;00m:\n\u001b[32m---> \u001b[39m\u001b[32m16\u001b[39m     p=\u001b[43marray\u001b[49m\u001b[43m(\u001b[49m\u001b[43mp\u001b[49m\u001b[43m,\u001b[49m\u001b[43mdtype\u001b[49m\u001b[43m=\u001b[49m\u001b[38;5;28;43mfloat\u001b[39;49m\u001b[43m)\u001b[49m\n\u001b[32m     17\u001b[39m     N.append(\u001b[38;5;28mlen\u001b[39m(p))\n\u001b[32m     18\u001b[39m     \u001b[38;5;66;03m#Check for problem values in p:\u001b[39;00m\n",
      "\u001b[31mValueError\u001b[39m: could not convert string to float: 'Tomatoes'"
     ]
    }
   ],
   "source": [
    "use = 'Tomatoes'  #Good we want demand curve for\n",
    "\n",
    "#Vary prices from 50% to 200% of reference.\n",
    "scale = np.linspace(.5,2,20)\n",
    "\n",
    "#Demand for good for household at median budget\n",
    "plt.plot([ugd8_result.demands(xref,my_prices(pbar[use]*s,use,pbar))[use] for s in scale],scale)\n",
    "\n",
    "#Demand for good for household at 25% percentile\n",
    "plt.plot([ugd8_result.demands(xbar.quantile(0.25),my_prices(pbar[use]*s,use,pbar))[use] for s in scale],scale)\n",
    "\n",
    "#Demand for good for household at 75% percentile\n",
    "plt.plot([ugd8_result.demands(xbar.quantile(0.75),my_prices(pbar[use]*s,use,pbar))[use] for s in scale],scale)\n",
    "\n",
    "plt.ylabel(f\"Price (relative to base of {pbar[use]:.2f})\")\n",
    "plt.xlabel(f\"Quantities of {use} Demanded\")"
   ]
  },
  {
   "cell_type": "code",
   "execution_count": null,
   "id": "2cb54800-e13f-4f7e-97ea-9a1befbcdd79",
   "metadata": {},
   "outputs": [],
   "source": [
    "fig,ax = plt.subplots()\n",
    "\n",
    "scale = np.geomspace(.01,10,50)\n",
    "\n",
    "ax.plot(np.log(scale*xref),[ugd8_result.expenditures(s*xref,pbar)/(s*xref) for s in scale])\n",
    "ax.set_xlabel(f'log budget (relative to base of {xref:.0f})')\n",
    "ax.set_ylabel(f'Expenditure share')\n",
    "ax.set_title('Engel Curves')"
   ]
  },
  {
   "cell_type": "markdown",
   "id": "a78ffdf4-848a-4297-b1d3-aa0fcd1bcb26",
   "metadata": {},
   "source": [
    "### **Mapping to Nutrients**"
   ]
  },
  {
   "cell_type": "code",
   "execution_count": null,
   "id": "33cc6ca6-33d6-4568-b98a-10380dbfa45a",
   "metadata": {},
   "outputs": [],
   "source": [
    "ugd_fct"
   ]
  },
  {
   "cell_type": "markdown",
   "id": "4bfe51ed-7fc7-477b-98a1-383df62ead1b",
   "metadata": {},
   "source": [
    "We need the index of the Food Conversion Table (FCT) to match up with\n",
    " the index of the vector of quantities demanded.   To manage this we\n",
    " make use of the `align` method for `pd.DataFrames`:"
   ]
  },
  {
   "cell_type": "code",
   "execution_count": null,
   "id": "0a12daab-4b14-43ce-95dd-ef626e7c144f",
   "metadata": {},
   "outputs": [],
   "source": [
    "# Create a new FCT and vector of consumption that only share rows in common:\n",
    "fct0,c0 = ugd_fct.align(qhat.T,axis=0,join='inner')\n",
    "print(fct0.index)"
   ]
  },
  {
   "cell_type": "markdown",
   "id": "5ab5b7e1-b4a2-48a6-a302-655231791200",
   "metadata": {},
   "source": [
    "Now, since rows of `fct0` and `c0` match, we can obtain nutritional\n",
    " outcomes from the inner (or dot, or matrix) product of the transposed\n",
    " `fct0` and `c0`:"
   ]
  },
  {
   "cell_type": "code",
   "execution_count": null,
   "id": "aa056f25-4f43-49d0-b981-1830d236c35a",
   "metadata": {},
   "outputs": [],
   "source": [
    "# The @ operator means matrix multiply\n",
    "N = fct0.T@c0\n",
    "\n",
    "N  #NB: Uganda quantities are for previous 7 days"
   ]
  },
  {
   "cell_type": "markdown",
   "id": "180a9a6f-5373-4b55-873a-cb229b2f9c82",
   "metadata": {},
   "source": [
    "Of course, since we can compute the nutritional content of a vector of\n",
    " consumption goods `c0`, we can also use our demand functions to\n",
    " compute nutrition as a *function* of prices and budget."
   ]
  },
  {
   "cell_type": "code",
   "execution_count": null,
   "id": "ed2454e3-f3a3-4624-bec0-8ca46ac37b73",
   "metadata": {},
   "outputs": [],
   "source": [
    "def nutrient_demand(x,p):\n",
    "    c = ugd8_result.demands(x,p)\n",
    "    fct0,c0 = ugd_fct.align(c,axis=0,join='inner')\n",
    "    N = fct0.T@c0\n",
    "\n",
    "    N = N.loc[~N.index.duplicated()]\n",
    "    \n",
    "    return N"
   ]
  },
  {
   "cell_type": "markdown",
   "id": "12fe1029-ef26-4b8a-a27d-2a7b25cdb890",
   "metadata": {},
   "source": [
    "With this `nutrient_demand` function in hand, we can see how nutrient\n",
    " outcomes vary with budget, given prices:"
   ]
  },
  {
   "cell_type": "code",
   "execution_count": null,
   "id": "ce7f87ab-5e73-4096-91e7-44c24370fe9b",
   "metadata": {},
   "outputs": [],
   "source": [
    "X = np.linspace(xref/5,xref*5,50)\n",
    "\n",
    "UseNutrients = ['Calcium','Vitamin C', 'Vitamin E', 'Vitamin K', 'Phosphorus', 'Potassium']\n",
    "\n",
    "df = pd.concat({myx:np.log(nutrient_demand(myx,pbar))[UseNutrients] for myx in X},axis=1).T\n",
    "ax = df.plot()\n",
    "\n",
    "ax.set_xlabel('log budget')\n",
    "ax.set_ylabel('log nutrient')"
   ]
  },
  {
   "cell_type": "markdown",
   "id": "6772dd5a-e35f-4505-9c56-4c6e01418c92",
   "metadata": {},
   "source": [
    "Now how does nutrition vary with prices?"
   ]
  },
  {
   "cell_type": "code",
   "execution_count": null,
   "id": "38c8a661-3ad5-48b5-a12a-5e0f997a1084",
   "metadata": {},
   "outputs": [],
   "source": [
    "USE_GOOD = 'Oranges'\n",
    "\n",
    "scale = np.geomspace(.01,10,50)\n",
    "\n",
    "ndf = pd.DataFrame({s:np.log(nutrient_demand(xref/2,my_prices(USE_GOOD,pbar[USE_GOOD]*s)))[UseNutrients] for s in scale}).T\n",
    "\n",
    "ax = ndf.plot()\n",
    "\n",
    "ax.set_xlabel('log price')\n",
    "ax.set_ylabel('log nutrient')"
   ]
  },
  {
   "cell_type": "markdown",
   "id": "f308140c-d087-4f97-a2a2-91b1437eefdc",
   "metadata": {},
   "source": [
    "### Nutritional Needs of Households\n",
    "\n"
   ]
  },
  {
   "cell_type": "markdown",
   "id": "32ba7cca-873f-4160-abb7-d5032cd7e2a1",
   "metadata": {},
   "source": [
    "Our data on demand and nutrients is at the *household* level; we\n",
    "   can&rsquo;t directly compare household level nutrition with individual\n",
    "   level requirements.  What we **can** do is add up minimum individual\n",
    "   requirements, and see whether household total exceed these.  This\n",
    "   isn&rsquo;t a guarantee that all individuals have adequate nutrition\n",
    "   (since the way food is allocated in the household might be quite\n",
    "   unequal, or unrelated to individual requirements), but it is\n",
    "   *necessary* if all individuals are to have adequate nutrition.\n",
    "\n",
    "For the average household in our data, the number of\n",
    "different kinds of people can be computed by averaging over households:"
   ]
  },
  {
   "cell_type": "code",
   "execution_count": null,
   "id": "0d5be76c-1905-4351-a1d8-a405f7fc7964",
   "metadata": {},
   "outputs": [],
   "source": [
    "# In first round, averaged over households and villages\n",
    "dbar = ugd8_result.d[ugd_rdi.columns].mean()"
   ]
  },
  {
   "cell_type": "markdown",
   "id": "45120a39-78ae-47b4-9c12-f8667862f67c",
   "metadata": {},
   "source": [
    "Now, the inner/dot/matrix product between `dbar` and the `rdi`\n",
    "DataFrame of requirements will give us minimum requirements for the\n",
    "average household:"
   ]
  },
  {
   "cell_type": "code",
   "execution_count": null,
   "id": "1b4a2a2f-637a-4942-ae93-c712b32199b2",
   "metadata": {},
   "outputs": [],
   "source": [
    "# This matrix product gives minimum nutrient requirements for\n",
    "# the average household\n",
    "hh_rdi = ugd_rdi@dbar\n",
    "\n",
    "hh_rdi"
   ]
  },
  {
   "cell_type": "markdown",
   "id": "0177331a-3fdd-4333-afe0-6cc38648f776",
   "metadata": {},
   "source": [
    "## Nutritional Adequacy of Food Demands"
   ]
  },
  {
   "cell_type": "markdown",
   "id": "7600d03b-02ac-45a7-b452-b3b4391edb37",
   "metadata": {},
   "source": [
    "Since we can trace out demands for nutrients as a function of $(x,p)$,\n",
    "and we&rsquo;ve computed minimum nutritional requirements for the average\n",
    "household, we can *normalize* nutritional intake to check the adequacy\n",
    "of diet for a household with counts of different kinds of people given by `z`."
   ]
  },
  {
   "cell_type": "code",
   "execution_count": null,
   "id": "b4ecb7ed-3a73-49d3-bade-df5c1b6a76af",
   "metadata": {},
   "outputs": [],
   "source": [
    "def nutrient_adequacy_ratio(x,p,d,rdi=ugd_rdi,days=7):\n",
    "    hh_rdi = ugd_rdi.replace('',0)@d*days\n",
    "\n",
    "    return nutrient_demand(x,p)/hh_rdi"
   ]
  },
  {
   "cell_type": "markdown",
   "id": "391d9cd9-8687-45ac-9b40-ead71fbe4c72",
   "metadata": {},
   "source": [
    "In terms of normalized nutrients, any household with more than one\n",
    "unit of any given nutrient (or zero in logs) will be consuming a\n",
    "minimally adequate level of the nutrient; below this level there&rsquo;s\n",
    "clearly nutritional inadequacy.  For this reason the ratio of\n",
    "actual nutrients to required nutrients is termed the &ldquo;nutrient\n",
    "adequacy ratio,&rdquo; or NAR."
   ]
  },
  {
   "cell_type": "code",
   "execution_count": null,
   "id": "41d5e386-0bbb-4b85-a8d9-c2a5587f6ca7",
   "metadata": {},
   "outputs": [],
   "source": [
    "X = np.geomspace(.01*xref,2*xref,100)\n",
    "\n",
    "pd.DataFrame({x:np.log(nutrient_adequacy_ratio(x,pbar,dbar))[UseNutrients] for x in X}).T.plot()\n",
    "plt.legend(UseNutrients)\n",
    "plt.xlabel('Budget')\n",
    "plt.ylabel('Log Nutrient Adequacy Ratio')\n",
    "plt.axhline(0)\n",
    "plt.axvline(xref)"
   ]
  },
  {
   "cell_type": "markdown",
   "id": "4623f177-6cb1-476e-9d8a-a71c5771ad1a",
   "metadata": {},
   "source": [
    "As before, we can also vary relative prices.  Here we trace out\n",
    "nutritional adequacy varying the price of a single good:"
   ]
  },
  {
   "cell_type": "code",
   "execution_count": null,
   "id": "436aa461-a948-4386-95db-9384a8bc84c4",
   "metadata": {},
   "outputs": [],
   "source": [
    "scale = np.geomspace(.01,2,50)\n",
    "\n",
    "ndf = pd.DataFrame({s*pbar[USE_GOOD]:np.log(nutrient_adequacy_ratio(xref/4,my_prices(USE_GOOD,pbar[USE_GOOD]*s),dbar))[UseNutrients] for s in scale}).T\n",
    "\n",
    "fig,ax = plt.subplots()\n",
    "ax.plot(ndf['Calcium'],ndf.index)\n",
    "ax.axhline(pbar[USE_GOOD])\n",
    "ax.axvline(0)\n",
    "\n",
    "ax.set_ylabel('Price')\n",
    "ax.set_xlabel('Log Nutrient Adequacy Ratio')"
   ]
  },
  {
   "cell_type": "code",
   "execution_count": null,
   "id": "7bdb66a2-25b0-43b7-89a5-dad2b87838fb",
   "metadata": {},
   "outputs": [],
   "source": [
    "scale = np.geomspace(.01,2,50)\n",
    "\n",
    "ndf = pd.DataFrame({s*pbar[USE_GOOD]:np.log(nutrient_adequacy_ratio(xref/4,my_prices(USE_GOOD,pbar[USE_GOOD]*s),dbar))[UseNutrients] for s in scale}).T\n",
    "\n",
    "fig,ax = plt.subplots()\n",
    "ax.plot(ndf['Vitamin K'],ndf.index)\n",
    "ax.axhline(pbar[USE_GOOD])\n",
    "ax.axvline(0)\n",
    "\n",
    "ax.set_ylabel('Price')\n",
    "ax.set_xlabel('Log Nutrient Adequacy Ratio')"
   ]
  },
  {
   "cell_type": "code",
   "execution_count": 50,
   "id": "ce680485-1e51-468f-a809-77ac79a3d84d",
   "metadata": {},
   "outputs": [
    {
     "data": {
      "text/plain": [
       "Text(0.5, 0, 'Log Nutrient Adequacy Ratio')"
      ]
     },
     "execution_count": 50,
     "metadata": {},
     "output_type": "execute_result"
    },
    {
     "data": {
      "image/png": "[encoded data removed]",
      "text/plain": [
       "<Figure size 640x480 with 1 Axes>"
      ]
     },
     "metadata": {},
     "output_type": "display_data"
    }
   ],
   "source": [
    "scale = np.geomspace(.01,2,50)\n",
    "\n",
    "ndf = pd.DataFrame({s*pbar[USE_GOOD]:np.log(nutrient_adequacy_ratio(xref/4,my_prices(USE_GOOD,pbar[USE_GOOD]*s),dbar))[UseNutrients] for s in scale}).T\n",
    "\n",
    "fig,ax = plt.subplots()\n",
    "ax.plot(ndf['Vitamin E'],ndf.index)\n",
    "ax.axhline(pbar[USE_GOOD])\n",
    "ax.axvline(0)\n",
    "\n",
    "ax.set_ylabel('Price')\n",
    "ax.set_xlabel('Log Nutrient Adequacy Ratio')"
   ]
  },
  {
   "cell_type": "code",
   "execution_count": null,
   "id": "fca01096-51ac-4b43-86d3-8d490592001c",
   "metadata": {},
   "outputs": [],
   "source": []
  }
 ],
 "metadata": {
  "kernelspec": {
   "display_name": "Python 3 (ipykernel)",
   "language": "python",
   "name": "python3"
  },
  "language_info": {
   "codemirror_mode": {
    "name": "ipython",
    "version": 3
   },
   "file_extension": ".py",
   "mimetype": "text/x-python",
   "name": "python",
   "nbconvert_exporter": "python",
   "pygments_lexer": "ipython3",
   "version": "3.11.12"
  }
 },
 "nbformat": 4,
 "nbformat_minor": 5
}
