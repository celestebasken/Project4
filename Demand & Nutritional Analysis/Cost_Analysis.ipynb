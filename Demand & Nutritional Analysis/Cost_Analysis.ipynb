{
 "cells": [
  {
   "cell_type": "markdown",
   "id": "d18a113c-007b-4aad-8e2f-2be7329486f9",
   "metadata": {},
   "source": [
    "## **Cost Analysis**"
   ]
  },
  {
   "cell_type": "code",
   "execution_count": 2,
   "id": "379ed361-9c8a-4b9a-b0c3-5637fc0190aa",
   "metadata": {},
   "outputs": [
    {
     "name": "stdout",
     "output_type": "stream",
     "text": [
      "Requirement already satisfied: CFEDemands>=0.4.1 in /srv/conda/lib/python3.11/site-packages (from -r requirements.txt (line 5)) (0.6.1)\n",
      "Requirement already satisfied: gspread>=5.0.1 in /srv/conda/lib/python3.11/site-packages (from -r requirements.txt (line 7)) (5.12.4)\n",
      "Requirement already satisfied: gspread_pandas>=3.2.0 in /srv/conda/lib/python3.11/site-packages (from -r requirements.txt (line 8)) (3.3.0)\n",
      "Requirement already satisfied: oauth2client>=4.1.3 in /srv/conda/lib/python3.11/site-packages (from -r requirements.txt (line 11)) (4.1.3)\n",
      "Requirement already satisfied: eep153_tools>=0.11 in /srv/conda/lib/python3.11/site-packages (from -r requirements.txt (line 21)) (0.12.4)\n",
      "Requirement already satisfied: python-gnupg in /srv/conda/lib/python3.11/site-packages (from -r requirements.txt (line 22)) (0.5.4)\n",
      "Requirement already satisfied: ConsumerDemands in /srv/conda/lib/python3.11/site-packages (from -r requirements.txt (line 24)) (0.4.3.dev0)\n",
      "Requirement already satisfied: dvc>=2.18.1 in /srv/conda/lib/python3.11/site-packages (from CFEDemands>=0.4.1->-r requirements.txt (line 5)) (3.59.1)\n",
      "Requirement already satisfied: joblib>=1.1.0 in /srv/conda/lib/python3.11/site-packages (from CFEDemands>=0.4.1->-r requirements.txt (line 5)) (1.4.2)\n",
      "Requirement already satisfied: matplotlib>=3.5.1 in /srv/conda/lib/python3.11/site-packages (from CFEDemands>=0.4.1->-r requirements.txt (line 5)) (3.10.1)\n",
      "Requirement already satisfied: numpy>=1.21.5 in /srv/conda/lib/python3.11/site-packages (from CFEDemands>=0.4.1->-r requirements.txt (line 5)) (2.2.5)\n",
      "Requirement already satisfied: pandas>=1.4.2 in /srv/conda/lib/python3.11/site-packages (from CFEDemands>=0.4.1->-r requirements.txt (line 5)) (2.2.3)\n",
      "Requirement already satisfied: pytest>=7.1.1 in /srv/conda/lib/python3.11/site-packages (from CFEDemands>=0.4.1->-r requirements.txt (line 5)) (8.3.5)\n",
      "Requirement already satisfied: ray>=2.0.0 in /srv/conda/lib/python3.11/site-packages (from CFEDemands>=0.4.1->-r requirements.txt (line 5)) (2.45.0)\n",
      "Requirement already satisfied: scipy>=1.7.3 in /srv/conda/lib/python3.11/site-packages (from CFEDemands>=0.4.1->-r requirements.txt (line 5)) (1.14.1)\n",
      "Requirement already satisfied: statsmodels>=0.13.2 in /srv/conda/lib/python3.11/site-packages (from CFEDemands>=0.4.1->-r requirements.txt (line 5)) (0.14.4)\n",
      "Requirement already satisfied: xarray>=0.20.1 in /srv/conda/lib/python3.11/site-packages (from CFEDemands>=0.4.1->-r requirements.txt (line 5)) (2025.1.1)\n",
      "Requirement already satisfied: google-auth>=1.12.0 in /srv/conda/lib/python3.11/site-packages (from gspread>=5.0.1->-r requirements.txt (line 7)) (2.39.0)\n",
      "Requirement already satisfied: google-auth-oauthlib>=0.4.1 in /srv/conda/lib/python3.11/site-packages (from gspread>=5.0.1->-r requirements.txt (line 7)) (1.2.1)\n",
      "Requirement already satisfied: decorator in /srv/conda/lib/python3.11/site-packages (from gspread_pandas>=3.2.0->-r requirements.txt (line 8)) (5.1.1)\n",
      "Requirement already satisfied: httplib2>=0.9.1 in /srv/conda/lib/python3.11/site-packages (from oauth2client>=4.1.3->-r requirements.txt (line 11)) (0.22.0)\n",
      "Requirement already satisfied: pyasn1>=0.1.7 in /srv/conda/lib/python3.11/site-packages (from oauth2client>=4.1.3->-r requirements.txt (line 11)) (0.6.1)\n",
      "Requirement already satisfied: pyasn1-modules>=0.0.5 in /srv/conda/lib/python3.11/site-packages (from oauth2client>=4.1.3->-r requirements.txt (line 11)) (0.4.2)\n",
      "Requirement already satisfied: rsa>=3.1.4 in /srv/conda/lib/python3.11/site-packages (from oauth2client>=4.1.3->-r requirements.txt (line 11)) (4.9.1)\n",
      "Requirement already satisfied: six>=1.6.1 in /srv/conda/lib/python3.11/site-packages (from oauth2client>=4.1.3->-r requirements.txt (line 11)) (1.17.0)\n",
      "Requirement already satisfied: attrs>=22.2.0 in /srv/conda/lib/python3.11/site-packages (from dvc>=2.18.1->CFEDemands>=0.4.1->-r requirements.txt (line 5)) (25.3.0)\n",
      "Requirement already satisfied: celery in /srv/conda/lib/python3.11/site-packages (from dvc>=2.18.1->CFEDemands>=0.4.1->-r requirements.txt (line 5)) (5.5.2)\n",
      "Requirement already satisfied: colorama>=0.3.9 in /srv/conda/lib/python3.11/site-packages (from dvc>=2.18.1->CFEDemands>=0.4.1->-r requirements.txt (line 5)) (0.4.6)\n",
      "Requirement already satisfied: configobj>=5.0.9 in /srv/conda/lib/python3.11/site-packages (from dvc>=2.18.1->CFEDemands>=0.4.1->-r requirements.txt (line 5)) (5.0.9)\n",
      "Requirement already satisfied: distro>=1.3 in /srv/conda/lib/python3.11/site-packages (from dvc>=2.18.1->CFEDemands>=0.4.1->-r requirements.txt (line 5)) (1.9.0)\n",
      "Requirement already satisfied: dpath<3,>=2.1.0 in /srv/conda/lib/python3.11/site-packages (from dvc>=2.18.1->CFEDemands>=0.4.1->-r requirements.txt (line 5)) (2.2.0)\n",
      "Requirement already satisfied: dulwich in /srv/conda/lib/python3.11/site-packages (from dvc>=2.18.1->CFEDemands>=0.4.1->-r requirements.txt (line 5)) (0.22.8)\n",
      "Requirement already satisfied: dvc-data<3.17,>=3.16.2 in /srv/conda/lib/python3.11/site-packages (from dvc>=2.18.1->CFEDemands>=0.4.1->-r requirements.txt (line 5)) (3.16.10)\n",
      "Requirement already satisfied: dvc-http>=2.29.0 in /srv/conda/lib/python3.11/site-packages (from dvc>=2.18.1->CFEDemands>=0.4.1->-r requirements.txt (line 5)) (2.32.0)\n",
      "Requirement already satisfied: dvc-objects in /srv/conda/lib/python3.11/site-packages (from dvc>=2.18.1->CFEDemands>=0.4.1->-r requirements.txt (line 5)) (5.1.0)\n",
      "Requirement already satisfied: dvc-render<2,>=1.0.1 in /srv/conda/lib/python3.11/site-packages (from dvc>=2.18.1->CFEDemands>=0.4.1->-r requirements.txt (line 5)) (1.0.2)\n",
      "Requirement already satisfied: dvc-studio-client<1,>=0.21 in /srv/conda/lib/python3.11/site-packages (from dvc>=2.18.1->CFEDemands>=0.4.1->-r requirements.txt (line 5)) (0.21.0)\n",
      "Requirement already satisfied: dvc-task<1,>=0.3.0 in /srv/conda/lib/python3.11/site-packages (from dvc>=2.18.1->CFEDemands>=0.4.1->-r requirements.txt (line 5)) (0.40.2)\n",
      "Requirement already satisfied: flatten_dict<1,>=0.4.1 in /srv/conda/lib/python3.11/site-packages (from dvc>=2.18.1->CFEDemands>=0.4.1->-r requirements.txt (line 5)) (0.4.2)\n",
      "Requirement already satisfied: flufl.lock<9,>=8.1.0 in /srv/conda/lib/python3.11/site-packages (from dvc>=2.18.1->CFEDemands>=0.4.1->-r requirements.txt (line 5)) (8.1.0)\n",
      "Requirement already satisfied: fsspec>=2024.2.0 in /srv/conda/lib/python3.11/site-packages (from dvc>=2.18.1->CFEDemands>=0.4.1->-r requirements.txt (line 5)) (2025.3.2)\n",
      "Requirement already satisfied: funcy>=1.14 in /srv/conda/lib/python3.11/site-packages (from dvc>=2.18.1->CFEDemands>=0.4.1->-r requirements.txt (line 5)) (2.0)\n",
      "Requirement already satisfied: grandalf<1,>=0.7 in /srv/conda/lib/python3.11/site-packages (from dvc>=2.18.1->CFEDemands>=0.4.1->-r requirements.txt (line 5)) (0.8)\n",
      "Requirement already satisfied: gto<2,>=1.6.0 in /srv/conda/lib/python3.11/site-packages (from dvc>=2.18.1->CFEDemands>=0.4.1->-r requirements.txt (line 5)) (1.7.2)\n",
      "Requirement already satisfied: hydra-core>=1.1 in /srv/conda/lib/python3.11/site-packages (from dvc>=2.18.1->CFEDemands>=0.4.1->-r requirements.txt (line 5)) (1.3.2)\n",
      "Requirement already satisfied: iterative-telemetry>=0.0.7 in /srv/conda/lib/python3.11/site-packages (from dvc>=2.18.1->CFEDemands>=0.4.1->-r requirements.txt (line 5)) (0.0.10)\n",
      "Requirement already satisfied: kombu in /srv/conda/lib/python3.11/site-packages (from dvc>=2.18.1->CFEDemands>=0.4.1->-r requirements.txt (line 5)) (5.5.3)\n",
      "Requirement already satisfied: networkx>=2.5 in /srv/conda/lib/python3.11/site-packages (from dvc>=2.18.1->CFEDemands>=0.4.1->-r requirements.txt (line 5)) (3.4.2)\n",
      "Requirement already satisfied: omegaconf in /srv/conda/lib/python3.11/site-packages (from dvc>=2.18.1->CFEDemands>=0.4.1->-r requirements.txt (line 5)) (2.3.0)\n",
      "Requirement already satisfied: packaging>=19 in /srv/conda/lib/python3.11/site-packages (from dvc>=2.18.1->CFEDemands>=0.4.1->-r requirements.txt (line 5)) (24.2)\n",
      "Requirement already satisfied: pathspec>=0.10.3 in /srv/conda/lib/python3.11/site-packages (from dvc>=2.18.1->CFEDemands>=0.4.1->-r requirements.txt (line 5)) (0.12.1)\n",
      "Requirement already satisfied: platformdirs<5,>=3.1.1 in /srv/conda/lib/python3.11/site-packages (from dvc>=2.18.1->CFEDemands>=0.4.1->-r requirements.txt (line 5)) (4.3.6)\n",
      "Requirement already satisfied: psutil>=5.8 in /srv/conda/lib/python3.11/site-packages (from dvc>=2.18.1->CFEDemands>=0.4.1->-r requirements.txt (line 5)) (5.9.8)\n",
      "Requirement already satisfied: pydot>=1.2.4 in /srv/conda/lib/python3.11/site-packages (from dvc>=2.18.1->CFEDemands>=0.4.1->-r requirements.txt (line 5)) (3.0.4)\n",
      "Requirement already satisfied: pygtrie>=2.3.2 in /srv/conda/lib/python3.11/site-packages (from dvc>=2.18.1->CFEDemands>=0.4.1->-r requirements.txt (line 5)) (2.5.0)\n",
      "Requirement already satisfied: pyparsing>=2.4.7 in /srv/conda/lib/python3.11/site-packages (from dvc>=2.18.1->CFEDemands>=0.4.1->-r requirements.txt (line 5)) (3.2.3)\n",
      "Requirement already satisfied: requests>=2.22 in /srv/conda/lib/python3.11/site-packages (from dvc>=2.18.1->CFEDemands>=0.4.1->-r requirements.txt (line 5)) (2.32.3)\n",
      "Requirement already satisfied: rich>=12 in /srv/conda/lib/python3.11/site-packages (from dvc>=2.18.1->CFEDemands>=0.4.1->-r requirements.txt (line 5)) (13.9.4)\n",
      "Requirement already satisfied: ruamel.yaml>=0.17.11 in /srv/conda/lib/python3.11/site-packages (from dvc>=2.18.1->CFEDemands>=0.4.1->-r requirements.txt (line 5)) (0.18.10)\n",
      "Requirement already satisfied: scmrepo<4,>=3.3.8 in /srv/conda/lib/python3.11/site-packages (from dvc>=2.18.1->CFEDemands>=0.4.1->-r requirements.txt (line 5)) (3.3.11)\n",
      "Requirement already satisfied: shortuuid>=0.5 in /srv/conda/lib/python3.11/site-packages (from dvc>=2.18.1->CFEDemands>=0.4.1->-r requirements.txt (line 5)) (1.0.13)\n",
      "Requirement already satisfied: shtab<2,>=1.3.4 in /srv/conda/lib/python3.11/site-packages (from dvc>=2.18.1->CFEDemands>=0.4.1->-r requirements.txt (line 5)) (1.7.2)\n",
      "Requirement already satisfied: tabulate>=0.8.7 in /srv/conda/lib/python3.11/site-packages (from dvc>=2.18.1->CFEDemands>=0.4.1->-r requirements.txt (line 5)) (0.9.0)\n",
      "Requirement already satisfied: tomlkit>=0.11.1 in /srv/conda/lib/python3.11/site-packages (from dvc>=2.18.1->CFEDemands>=0.4.1->-r requirements.txt (line 5)) (0.13.2)\n",
      "Requirement already satisfied: tqdm<5,>=4.63.1 in /srv/conda/lib/python3.11/site-packages (from dvc>=2.18.1->CFEDemands>=0.4.1->-r requirements.txt (line 5)) (4.67.1)\n",
      "Requirement already satisfied: voluptuous>=0.11.7 in /srv/conda/lib/python3.11/site-packages (from dvc>=2.18.1->CFEDemands>=0.4.1->-r requirements.txt (line 5)) (0.15.2)\n",
      "Requirement already satisfied: zc.lockfile>=1.2.1 in /srv/conda/lib/python3.11/site-packages (from dvc>=2.18.1->CFEDemands>=0.4.1->-r requirements.txt (line 5)) (3.0.post1)\n",
      "Requirement already satisfied: cachetools<6.0,>=2.0.0 in /srv/conda/lib/python3.11/site-packages (from google-auth>=1.12.0->gspread>=5.0.1->-r requirements.txt (line 7)) (5.5.2)\n",
      "Requirement already satisfied: requests-oauthlib>=0.7.0 in /srv/conda/lib/python3.11/site-packages (from google-auth-oauthlib>=0.4.1->gspread>=5.0.1->-r requirements.txt (line 7)) (2.0.0)\n",
      "Requirement already satisfied: contourpy>=1.0.1 in /srv/conda/lib/python3.11/site-packages (from matplotlib>=3.5.1->CFEDemands>=0.4.1->-r requirements.txt (line 5)) (1.3.2)\n",
      "Requirement already satisfied: cycler>=0.10 in /srv/conda/lib/python3.11/site-packages (from matplotlib>=3.5.1->CFEDemands>=0.4.1->-r requirements.txt (line 5)) (0.12.1)\n",
      "Requirement already satisfied: fonttools>=4.22.0 in /srv/conda/lib/python3.11/site-packages (from matplotlib>=3.5.1->CFEDemands>=0.4.1->-r requirements.txt (line 5)) (4.57.0)\n",
      "Requirement already satisfied: kiwisolver>=1.3.1 in /srv/conda/lib/python3.11/site-packages (from matplotlib>=3.5.1->CFEDemands>=0.4.1->-r requirements.txt (line 5)) (1.4.7)\n",
      "Requirement already satisfied: pillow>=8 in /srv/conda/lib/python3.11/site-packages (from matplotlib>=3.5.1->CFEDemands>=0.4.1->-r requirements.txt (line 5)) (11.1.0)\n",
      "Requirement already satisfied: python-dateutil>=2.7 in /srv/conda/lib/python3.11/site-packages (from matplotlib>=3.5.1->CFEDemands>=0.4.1->-r requirements.txt (line 5)) (2.9.0.post0)\n",
      "Requirement already satisfied: pytz>=2020.1 in /srv/conda/lib/python3.11/site-packages (from pandas>=1.4.2->CFEDemands>=0.4.1->-r requirements.txt (line 5)) (2025.2)\n",
      "Requirement already satisfied: tzdata>=2022.7 in /srv/conda/lib/python3.11/site-packages (from pandas>=1.4.2->CFEDemands>=0.4.1->-r requirements.txt (line 5)) (2025.2)\n",
      "Requirement already satisfied: iniconfig in /srv/conda/lib/python3.11/site-packages (from pytest>=7.1.1->CFEDemands>=0.4.1->-r requirements.txt (line 5)) (2.0.0)\n",
      "Requirement already satisfied: pluggy<2,>=1.5 in /srv/conda/lib/python3.11/site-packages (from pytest>=7.1.1->CFEDemands>=0.4.1->-r requirements.txt (line 5)) (1.5.0)\n",
      "Requirement already satisfied: click>=7.0 in /srv/conda/lib/python3.11/site-packages (from ray>=2.0.0->CFEDemands>=0.4.1->-r requirements.txt (line 5)) (8.1.8)\n",
      "Requirement already satisfied: filelock in /srv/conda/lib/python3.11/site-packages (from ray>=2.0.0->CFEDemands>=0.4.1->-r requirements.txt (line 5)) (3.18.0)\n",
      "Requirement already satisfied: jsonschema in /srv/conda/lib/python3.11/site-packages (from ray>=2.0.0->CFEDemands>=0.4.1->-r requirements.txt (line 5)) (4.23.0)\n",
      "Requirement already satisfied: msgpack<2.0.0,>=1.0.0 in /srv/conda/lib/python3.11/site-packages (from ray>=2.0.0->CFEDemands>=0.4.1->-r requirements.txt (line 5)) (1.1.0)\n",
      "Requirement already satisfied: protobuf!=3.19.5,>=3.15.3 in /srv/conda/lib/python3.11/site-packages (from ray>=2.0.0->CFEDemands>=0.4.1->-r requirements.txt (line 5)) (5.29.3)\n",
      "Requirement already satisfied: pyyaml in /srv/conda/lib/python3.11/site-packages (from ray>=2.0.0->CFEDemands>=0.4.1->-r requirements.txt (line 5)) (6.0.2)\n",
      "Requirement already satisfied: patsy>=0.5.6 in /srv/conda/lib/python3.11/site-packages (from statsmodels>=0.13.2->CFEDemands>=0.4.1->-r requirements.txt (line 5)) (1.0.1)\n",
      "Requirement already satisfied: dictdiffer>=0.8.1 in /srv/conda/lib/python3.11/site-packages (from dvc-data<3.17,>=3.16.2->dvc>=2.18.1->CFEDemands>=0.4.1->-r requirements.txt (line 5)) (0.9.0)\n",
      "Requirement already satisfied: diskcache>=5.2.1 in /srv/conda/lib/python3.11/site-packages (from dvc-data<3.17,>=3.16.2->dvc>=2.18.1->CFEDemands>=0.4.1->-r requirements.txt (line 5)) (5.6.3)\n",
      "Requirement already satisfied: sqltrie<1,>=0.11.0 in /srv/conda/lib/python3.11/site-packages (from dvc-data<3.17,>=3.16.2->dvc>=2.18.1->CFEDemands>=0.4.1->-r requirements.txt (line 5)) (0.11.2)\n",
      "Requirement already satisfied: orjson<4,>=3 in /srv/conda/lib/python3.11/site-packages (from dvc-data<3.17,>=3.16.2->dvc>=2.18.1->CFEDemands>=0.4.1->-r requirements.txt (line 5)) (3.10.18)\n",
      "Requirement already satisfied: aiohttp-retry>=2.5.0 in /srv/conda/lib/python3.11/site-packages (from dvc-http>=2.29.0->dvc>=2.18.1->CFEDemands>=0.4.1->-r requirements.txt (line 5)) (2.9.1)\n",
      "Requirement already satisfied: billiard<5.0,>=4.2.1 in /srv/conda/lib/python3.11/site-packages (from celery->dvc>=2.18.1->CFEDemands>=0.4.1->-r requirements.txt (line 5)) (4.2.1)\n",
      "Requirement already satisfied: vine<6.0,>=5.1.0 in /srv/conda/lib/python3.11/site-packages (from celery->dvc>=2.18.1->CFEDemands>=0.4.1->-r requirements.txt (line 5)) (5.1.0)\n",
      "Requirement already satisfied: click-didyoumean>=0.3.0 in /srv/conda/lib/python3.11/site-packages (from celery->dvc>=2.18.1->CFEDemands>=0.4.1->-r requirements.txt (line 5)) (0.3.1)\n",
      "Requirement already satisfied: click-repl>=0.2.0 in /srv/conda/lib/python3.11/site-packages (from celery->dvc>=2.18.1->CFEDemands>=0.4.1->-r requirements.txt (line 5)) (0.3.0)\n",
      "Requirement already satisfied: click-plugins>=1.1.1 in /srv/conda/lib/python3.11/site-packages (from celery->dvc>=2.18.1->CFEDemands>=0.4.1->-r requirements.txt (line 5)) (1.1.1)\n",
      "Requirement already satisfied: atpublic in /srv/conda/lib/python3.11/site-packages (from flufl.lock<9,>=8.1.0->dvc>=2.18.1->CFEDemands>=0.4.1->-r requirements.txt (line 5)) (4.1.0)\n",
      "Requirement already satisfied: entrypoints in /srv/conda/lib/python3.11/site-packages (from gto<2,>=1.6.0->dvc>=2.18.1->CFEDemands>=0.4.1->-r requirements.txt (line 5)) (0.4)\n",
      "Requirement already satisfied: pydantic!=2.0.0,<3,>=1.9.0 in /srv/conda/lib/python3.11/site-packages (from gto<2,>=1.6.0->dvc>=2.18.1->CFEDemands>=0.4.1->-r requirements.txt (line 5)) (2.10.5)\n",
      "Requirement already satisfied: semver>=2.13.0 in /srv/conda/lib/python3.11/site-packages (from gto<2,>=1.6.0->dvc>=2.18.1->CFEDemands>=0.4.1->-r requirements.txt (line 5)) (3.0.4)\n",
      "Requirement already satisfied: typer>=0.4.1 in /srv/conda/lib/python3.11/site-packages (from gto<2,>=1.6.0->dvc>=2.18.1->CFEDemands>=0.4.1->-r requirements.txt (line 5)) (0.15.2)\n",
      "Requirement already satisfied: antlr4-python3-runtime==4.9.* in /srv/conda/lib/python3.11/site-packages (from hydra-core>=1.1->dvc>=2.18.1->CFEDemands>=0.4.1->-r requirements.txt (line 5)) (4.9.3)\n",
      "Requirement already satisfied: appdirs in /srv/conda/lib/python3.11/site-packages (from iterative-telemetry>=0.0.7->dvc>=2.18.1->CFEDemands>=0.4.1->-r requirements.txt (line 5)) (1.4.4)\n",
      "Requirement already satisfied: amqp<6.0.0,>=5.1.1 in /srv/conda/lib/python3.11/site-packages (from kombu->dvc>=2.18.1->CFEDemands>=0.4.1->-r requirements.txt (line 5)) (5.3.1)\n",
      "Requirement already satisfied: charset_normalizer<4,>=2 in /srv/conda/lib/python3.11/site-packages (from requests>=2.22->dvc>=2.18.1->CFEDemands>=0.4.1->-r requirements.txt (line 5)) (3.4.0)\n",
      "Requirement already satisfied: idna<4,>=2.5 in /srv/conda/lib/python3.11/site-packages (from requests>=2.22->dvc>=2.18.1->CFEDemands>=0.4.1->-r requirements.txt (line 5)) (3.10)\n",
      "Requirement already satisfied: urllib3<3,>=1.21.1 in /srv/conda/lib/python3.11/site-packages (from requests>=2.22->dvc>=2.18.1->CFEDemands>=0.4.1->-r requirements.txt (line 5)) (2.3.0)\n",
      "Requirement already satisfied: certifi>=2017.4.17 in /srv/conda/lib/python3.11/site-packages (from requests>=2.22->dvc>=2.18.1->CFEDemands>=0.4.1->-r requirements.txt (line 5)) (2025.1.31)\n",
      "Requirement already satisfied: oauthlib>=3.0.0 in /srv/conda/lib/python3.11/site-packages (from requests-oauthlib>=0.7.0->google-auth-oauthlib>=0.4.1->gspread>=5.0.1->-r requirements.txt (line 7)) (3.2.2)\n",
      "Requirement already satisfied: markdown-it-py>=2.2.0 in /srv/conda/lib/python3.11/site-packages (from rich>=12->dvc>=2.18.1->CFEDemands>=0.4.1->-r requirements.txt (line 5)) (3.0.0)\n",
      "Requirement already satisfied: pygments<3.0.0,>=2.13.0 in /srv/conda/lib/python3.11/site-packages (from rich>=12->dvc>=2.18.1->CFEDemands>=0.4.1->-r requirements.txt (line 5)) (2.19.1)\n",
      "Requirement already satisfied: ruamel.yaml.clib>=0.2.7 in /srv/conda/lib/python3.11/site-packages (from ruamel.yaml>=0.17.11->dvc>=2.18.1->CFEDemands>=0.4.1->-r requirements.txt (line 5)) (0.2.8)\n",
      "Requirement already satisfied: gitpython>3 in /srv/conda/lib/python3.11/site-packages (from scmrepo<4,>=3.3.8->dvc>=2.18.1->CFEDemands>=0.4.1->-r requirements.txt (line 5)) (3.1.44)\n",
      "Requirement already satisfied: pygit2>=1.14.0 in /srv/conda/lib/python3.11/site-packages (from scmrepo<4,>=3.3.8->dvc>=2.18.1->CFEDemands>=0.4.1->-r requirements.txt (line 5)) (1.18.0)\n",
      "Requirement already satisfied: asyncssh<3,>=2.13.1 in /srv/conda/lib/python3.11/site-packages (from scmrepo<4,>=3.3.8->dvc>=2.18.1->CFEDemands>=0.4.1->-r requirements.txt (line 5)) (2.20.0)\n",
      "Requirement already satisfied: setuptools in /srv/conda/lib/python3.11/site-packages (from zc.lockfile>=1.2.1->dvc>=2.18.1->CFEDemands>=0.4.1->-r requirements.txt (line 5)) (75.6.0)\n",
      "Requirement already satisfied: jsonschema-specifications>=2023.03.6 in /srv/conda/lib/python3.11/site-packages (from jsonschema->ray>=2.0.0->CFEDemands>=0.4.1->-r requirements.txt (line 5)) (2024.10.1)\n",
      "Requirement already satisfied: referencing>=0.28.4 in /srv/conda/lib/python3.11/site-packages (from jsonschema->ray>=2.0.0->CFEDemands>=0.4.1->-r requirements.txt (line 5)) (0.36.2)\n",
      "Requirement already satisfied: rpds-py>=0.7.1 in /srv/conda/lib/python3.11/site-packages (from jsonschema->ray>=2.0.0->CFEDemands>=0.4.1->-r requirements.txt (line 5)) (0.24.0)\n",
      "Requirement already satisfied: aiohttp in /srv/conda/lib/python3.11/site-packages (from aiohttp-retry>=2.5.0->dvc-http>=2.29.0->dvc>=2.18.1->CFEDemands>=0.4.1->-r requirements.txt (line 5)) (3.11.18)\n",
      "Requirement already satisfied: cryptography>=39.0 in /srv/conda/lib/python3.11/site-packages (from asyncssh<3,>=2.13.1->scmrepo<4,>=3.3.8->dvc>=2.18.1->CFEDemands>=0.4.1->-r requirements.txt (line 5)) (44.0.2)\n",
      "Requirement already satisfied: typing_extensions>=4.0.0 in /srv/conda/lib/python3.11/site-packages (from asyncssh<3,>=2.13.1->scmrepo<4,>=3.3.8->dvc>=2.18.1->CFEDemands>=0.4.1->-r requirements.txt (line 5)) (4.12.2)\n",
      "Requirement already satisfied: prompt-toolkit>=3.0.36 in /srv/conda/lib/python3.11/site-packages (from click-repl>=0.2.0->celery->dvc>=2.18.1->CFEDemands>=0.4.1->-r requirements.txt (line 5)) (3.0.51)\n",
      "Requirement already satisfied: gitdb<5,>=4.0.1 in /srv/conda/lib/python3.11/site-packages (from gitpython>3->scmrepo<4,>=3.3.8->dvc>=2.18.1->CFEDemands>=0.4.1->-r requirements.txt (line 5)) (4.0.12)\n",
      "Requirement already satisfied: mdurl~=0.1 in /srv/conda/lib/python3.11/site-packages (from markdown-it-py>=2.2.0->rich>=12->dvc>=2.18.1->CFEDemands>=0.4.1->-r requirements.txt (line 5)) (0.1.2)\n",
      "Requirement already satisfied: annotated-types>=0.6.0 in /srv/conda/lib/python3.11/site-packages (from pydantic!=2.0.0,<3,>=1.9.0->gto<2,>=1.6.0->dvc>=2.18.1->CFEDemands>=0.4.1->-r requirements.txt (line 5)) (0.7.0)\n",
      "Requirement already satisfied: pydantic-core==2.27.2 in /srv/conda/lib/python3.11/site-packages (from pydantic!=2.0.0,<3,>=1.9.0->gto<2,>=1.6.0->dvc>=2.18.1->CFEDemands>=0.4.1->-r requirements.txt (line 5)) (2.27.2)\n",
      "Requirement already satisfied: cffi>=1.17.0 in /srv/conda/lib/python3.11/site-packages (from pygit2>=1.14.0->scmrepo<4,>=3.3.8->dvc>=2.18.1->CFEDemands>=0.4.1->-r requirements.txt (line 5)) (1.17.1)\n",
      "Requirement already satisfied: shellingham>=1.3.0 in /srv/conda/lib/python3.11/site-packages (from typer>=0.4.1->gto<2,>=1.6.0->dvc>=2.18.1->CFEDemands>=0.4.1->-r requirements.txt (line 5)) (1.5.4)\n",
      "Requirement already satisfied: aiohappyeyeballs>=2.3.0 in /srv/conda/lib/python3.11/site-packages (from aiohttp->aiohttp-retry>=2.5.0->dvc-http>=2.29.0->dvc>=2.18.1->CFEDemands>=0.4.1->-r requirements.txt (line 5)) (2.6.1)\n",
      "Requirement already satisfied: aiosignal>=1.1.2 in /srv/conda/lib/python3.11/site-packages (from aiohttp->aiohttp-retry>=2.5.0->dvc-http>=2.29.0->dvc>=2.18.1->CFEDemands>=0.4.1->-r requirements.txt (line 5)) (1.3.2)\n",
      "Requirement already satisfied: frozenlist>=1.1.1 in /srv/conda/lib/python3.11/site-packages (from aiohttp->aiohttp-retry>=2.5.0->dvc-http>=2.29.0->dvc>=2.18.1->CFEDemands>=0.4.1->-r requirements.txt (line 5)) (1.5.0)\n",
      "Requirement already satisfied: multidict<7.0,>=4.5 in /srv/conda/lib/python3.11/site-packages (from aiohttp->aiohttp-retry>=2.5.0->dvc-http>=2.29.0->dvc>=2.18.1->CFEDemands>=0.4.1->-r requirements.txt (line 5)) (6.4.3)\n",
      "Requirement already satisfied: propcache>=0.2.0 in /srv/conda/lib/python3.11/site-packages (from aiohttp->aiohttp-retry>=2.5.0->dvc-http>=2.29.0->dvc>=2.18.1->CFEDemands>=0.4.1->-r requirements.txt (line 5)) (0.3.1)\n",
      "Requirement already satisfied: yarl<2.0,>=1.17.0 in /srv/conda/lib/python3.11/site-packages (from aiohttp->aiohttp-retry>=2.5.0->dvc-http>=2.29.0->dvc>=2.18.1->CFEDemands>=0.4.1->-r requirements.txt (line 5)) (1.20.0)\n",
      "Requirement already satisfied: pycparser in /srv/conda/lib/python3.11/site-packages (from cffi>=1.17.0->pygit2>=1.14.0->scmrepo<4,>=3.3.8->dvc>=2.18.1->CFEDemands>=0.4.1->-r requirements.txt (line 5)) (2.22)\n",
      "Requirement already satisfied: smmap<6,>=3.0.1 in /srv/conda/lib/python3.11/site-packages (from gitdb<5,>=4.0.1->gitpython>3->scmrepo<4,>=3.3.8->dvc>=2.18.1->CFEDemands>=0.4.1->-r requirements.txt (line 5)) (5.0.2)\n",
      "Requirement already satisfied: wcwidth in /srv/conda/lib/python3.11/site-packages (from prompt-toolkit>=3.0.36->click-repl>=0.2.0->celery->dvc>=2.18.1->CFEDemands>=0.4.1->-r requirements.txt (line 5)) (0.2.13)\n"
     ]
    }
   ],
   "source": [
    "!pip install -r requirements.txt"
   ]
  },
  {
   "cell_type": "code",
   "execution_count": 3,
   "id": "ef36a629-7e74-4144-8853-e50a67733b42",
   "metadata": {},
   "outputs": [
    {
     "name": "stdout",
     "output_type": "stream",
     "text": [
      "Requirement already satisfied: python-gnupg in /srv/conda/lib/python3.11/site-packages (0.5.4)\n",
      "Note: you may need to restart the kernel to use updated packages.\n",
      "Requirement already satisfied: eep153_tools in /srv/conda/lib/python3.11/site-packages (0.12.4)\n",
      "Note: you may need to restart the kernel to use updated packages.\n"
     ]
    }
   ],
   "source": [
    "#Importing\n",
    "%pip install python-gnupg\n",
    "%pip install eep153_tools\n",
    "%matplotlib inline\n",
    "import pandas as pd\n",
    "import numpy as np\n",
    "import eep153_tools\n",
    "import cfe\n",
    "from cfe import Regression\n",
    "import matplotlib.pyplot as plt\n",
    "import seaborn as sns\n",
    "import warnings\n",
    "warnings.simplefilter(\"ignore\")"
   ]
  },
  {
   "cell_type": "code",
   "execution_count": 4,
   "id": "28ab9f87-6ea2-4b40-90d0-7d1163f09788",
   "metadata": {},
   "outputs": [],
   "source": [
    "%run Acquiring_Dataframes.py"
   ]
  },
  {
   "cell_type": "code",
   "execution_count": 5,
   "id": "0e388344-e470-4eba-9e72-cad035890aac",
   "metadata": {},
   "outputs": [
    {
     "ename": "SyntaxError",
     "evalue": "invalid syntax (Nutrient_Demands.py, line 14)",
     "output_type": "error",
     "traceback": [
      "  \u001b[36mFile \u001b[39m\u001b[32m~/EEP153/Project4/Demand & Nutritional Analysis/Nutrient_Demands.py:14\u001b[39m\n\u001b[31m    \u001b[39m\u001b[31m%run Acquiring_Dataframes.py\u001b[39m\n    ^\n\u001b[31mSyntaxError\u001b[39m\u001b[31m:\u001b[39m invalid syntax\n"
     ]
    }
   ],
   "source": [
    "%run Nutrient_Demands.py"
   ]
  },
  {
   "cell_type": "code",
   "execution_count": null,
   "id": "ac6eba6e-64ec-44f6-8aa5-6ca02d932a1b",
   "metadata": {},
   "outputs": [],
   "source": [
    "#Get saved result\n",
    "ugd8_result = cfe.read_pickle('RGSN Files/Uganda19-20.rgsn')"
   ]
  }
 ],
 "metadata": {
  "kernelspec": {
   "display_name": "Python 3 (ipykernel)",
   "language": "python",
   "name": "python3"
  },
  "language_info": {
   "codemirror_mode": {
    "name": "ipython",
    "version": 3
   },
   "file_extension": ".py",
   "mimetype": "text/x-python",
   "name": "python",
   "nbconvert_exporter": "python",
   "pygments_lexer": "ipython3",
   "version": "3.11.12"
  }
 },
 "nbformat": 4,
 "nbformat_minor": 5
}
