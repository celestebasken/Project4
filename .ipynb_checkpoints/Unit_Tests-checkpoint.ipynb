{
 "cells": [
  {
   "cell_type": "markdown",
   "id": "bd7e5905-5bf4-4b30-aae2-20a74460edfe",
   "metadata": {},
   "source": [
    "## **Unit Tests**"
   ]
  },
  {
   "cell_type": "code",
   "execution_count": 1,
   "id": "f7d98a5a-9461-49da-bfba-ceb5e3d648c3",
   "metadata": {},
   "outputs": [],
   "source": [
    "import pandas as pd\n",
    "\n",
    "# Mocking the uga module and its methods\n",
    "class uga:\n",
    "    @staticmethod\n",
    "    def expenditure(U, p):\n",
    "        # Let's just return a dot product for mock behavior\n",
    "        return (p * 1).sum() + U * 0.1\n",
    "\n",
    "    @staticmethod\n",
    "    def demands(U, p, type='Marshallian'):\n",
    "        # Return some made-up demand based on prices\n",
    "        if type == 'Marshallian':\n",
    "            return pd.Series([10, 5, 2], index=p.index)\n",
    "        else:  # Hicksian\n",
    "            return pd.Series([8, 4, 1], index=p.index)\n",
    "\n",
    "# The functions to test\n",
    "def compensating_variation(U0, p0, p1):\n",
    "    x0 = uga.expenditure(U0, p0)\n",
    "    x1 = uga.expenditure(U0, p1)\n",
    "    return x1 - x0\n",
    "\n",
    "def revenue(U0, p0, p1, type='Marshallian'):\n",
    "    dp = p1 - p0\n",
    "    c = uga.demands(U0, p1, type=type)\n",
    "    dp, c = dp.align(c, join='inner')\n",
    "    return float(dp.T @ c)\n",
    "\n",
    "def deadweight_loss(U0, p0, p1):\n",
    "    cv = compensating_variation(U0, p0, p1)\n",
    "    rev = revenue(U0, p0, p1, type='Hicksian')\n",
    "    return cv - rev\n",
    "\n",
    "# Sample input\n",
    "U0 = 100\n",
    "p0 = pd.Series([1.0, 2.0, 3.0], index=['a', 'b', 'c'])\n",
    "p1 = pd.Series([2.0, 2.5, 4.0], index=['a', 'b', 'c'])"
   ]
  },
  {
   "cell_type": "code",
   "execution_count": 2,
   "id": "87e5fdbc-e561-44cf-ab75-9028b2504148",
   "metadata": {},
   "outputs": [],
   "source": [
    "# 1. Test compensating_variation\n",
    "cv = compensating_variation(U0, p0, p1)\n",
    "expected_cv = uga.expenditure(U0, p1) - uga.expenditure(U0, p0)\n",
    "assert abs(cv - expected_cv) < 1e-6, f\"Expected {expected_cv}, got {cv}\""
   ]
  },
  {
   "cell_type": "code",
   "execution_count": 3,
   "id": "f071c698-c1be-4117-9301-ce2ced5cf8e2",
   "metadata": {},
   "outputs": [],
   "source": [
    "# 2. Test revenue (Marshallian)\n",
    "rev = revenue(U0, p0, p1, type='Marshallian')\n",
    "expected_rev = ((p1 - p0) * uga.demands(U0, p1, type='Marshallian')).sum()\n",
    "assert abs(rev - expected_rev) < 1e-6, f\"Expected {expected_rev}, got {rev}\""
   ]
  },
  {
   "cell_type": "code",
   "execution_count": 4,
   "id": "8c528af8-13b8-445c-b1bf-04f964c961b5",
   "metadata": {},
   "outputs": [],
   "source": [
    "# 3. Test deadweight_loss\n",
    "dwl = deadweight_loss(U0, p0, p1)\n",
    "cv = compensating_variation(U0, p0, p1)\n",
    "rev_h = revenue(U0, p0, p1, type='Hicksian')\n",
    "expected_dwl = cv - rev_h\n",
    "assert abs(dwl - expected_dwl) < 1e-6, f\"Expected {expected_dwl}, got {dwl}\""
   ]
  },
  {
   "cell_type": "code",
   "execution_count": 5,
   "id": "5b29bf21-ed86-4d1b-bc70-7c0b6a2fed9d",
   "metadata": {},
   "outputs": [
    {
     "name": "stdout",
     "output_type": "stream",
     "text": [
      "All tests passed.\n"
     ]
    }
   ],
   "source": [
    "print(\"All tests passed.\")"
   ]
  },
  {
   "cell_type": "code",
   "execution_count": null,
   "id": "8668e7d1-0486-49ff-ab8c-164ca339e6e5",
   "metadata": {},
   "outputs": [],
   "source": []
  }
 ],
 "metadata": {
  "kernelspec": {
   "display_name": "Python 3 (ipykernel)",
   "language": "python",
   "name": "python3"
  },
  "language_info": {
   "codemirror_mode": {
    "name": "ipython",
    "version": 3
   },
   "file_extension": ".py",
   "mimetype": "text/x-python",
   "name": "python",
   "nbconvert_exporter": "python",
   "pygments_lexer": "ipython3",
   "version": "3.11.12"
  }
 },
 "nbformat": 4,
 "nbformat_minor": 5
}
