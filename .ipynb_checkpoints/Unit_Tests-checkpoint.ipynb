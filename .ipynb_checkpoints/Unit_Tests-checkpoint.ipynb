{
 "cells": [
  {
   "cell_type": "markdown",
   "id": "bd7e5905-5bf4-4b30-aae2-20a74460edfe",
   "metadata": {},
   "source": [
    "## **Unit Tests**"
   ]
  },
  {
   "cell_type": "code",
   "execution_count": null,
   "id": "f7d98a5a-9461-49da-bfba-ceb5e3d648c3",
   "metadata": {},
   "outputs": [],
   "source": []
  },
  {
   "cell_type": "code",
   "execution_count": null,
   "id": "87e5fdbc-e561-44cf-ab75-9028b2504148",
   "metadata": {},
   "outputs": [],
   "source": []
  }
 ],
 "metadata": {
  "kernelspec": {
   "display_name": "Python 3 (ipykernel)",
   "language": "python",
   "name": "python3"
  },
  "language_info": {
   "codemirror_mode": {
    "name": "ipython",
    "version": 3
   },
   "file_extension": ".py",
   "mimetype": "text/x-python",
   "name": "python",
   "nbconvert_exporter": "python",
   "pygments_lexer": "ipython3",
   "version": "3.11.11"
  }
 },
 "nbformat": 4,
 "nbformat_minor": 5
}
